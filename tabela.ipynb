{
 "cells": [
  {
   "cell_type": "code",
   "execution_count": 158,
   "id": "b16d95c6",
   "metadata": {},
   "outputs": [],
   "source": [
    "from collections import defaultdict\n",
    "import pandas as pd\n",
    "\n",
    "def vfuturo(vp, i, n):\n",
    "    return vp*(1+i)**n\n",
    "\n",
    "def vpresente(vf, i, n):\n",
    "    return vf/(1+i)**n\n",
    "\n",
    "def caculo_fator_de_financiamento(i, n):\n",
    "    return (1 - (1 + i)**(-n)) / i"
   ]
  },
  {
   "cell_type": "markdown",
   "id": "c54a6ad4",
   "metadata": {},
   "source": [
    "# Relação prestação x valor solicitado\n",
    "\n",
    "$$ PV = PMT * FPV(i,n) $$\n",
    "\n",
    "com:\n",
    " \n",
    "$$ FPV(i, n) = \\frac{1 - (1 + i)^{-n}}{i}$$\n",
    "\n",
    "Onde:\n",
    "\n",
    "- PV: Valor solicitado\n",
    "- PMT: Valor da prestação\n",
    "- n: Número de prestações\n",
    "- i: taxa de jutos\n"
   ]
  },
  {
   "cell_type": "markdown",
   "id": "558a215f",
   "metadata": {},
   "source": [
    "## Informando o valor solicitado "
   ]
  },
  {
   "cell_type": "code",
   "execution_count": 159,
   "id": "704fe724",
   "metadata": {},
   "outputs": [],
   "source": [
    "taxa_mensal = 0.140175\n",
    "valor_solicitado = 100_000\n",
    "numero_de_prestacoes = 10"
   ]
  },
  {
   "cell_type": "code",
   "execution_count": 160,
   "id": "29dd3d74",
   "metadata": {},
   "outputs": [
    {
     "name": "stdout",
     "output_type": "stream",
     "text": [
      "fator_de_financiamento=      5.21\n"
     ]
    }
   ],
   "source": [
    "fator_de_financiamento = caculo_fator_de_financiamento(taxa_mensal, numero_de_prestacoes)\n",
    "print(f\"{fator_de_financiamento=:10.2f}\")"
   ]
  },
  {
   "cell_type": "code",
   "execution_count": 172,
   "id": "0ae0ce84",
   "metadata": {},
   "outputs": [
    {
     "name": "stdout",
     "output_type": "stream",
     "text": [
      "valor_da_prestacao=   3680.43\n"
     ]
    }
   ],
   "source": [
    "valor_da_prestacao = valor_solicitado / fator_de_financiamento\n",
    "print(f\"{valor_da_prestacao=:10.2f}\")"
   ]
  },
  {
   "cell_type": "code",
   "execution_count": 165,
   "id": "e2ab089d",
   "metadata": {},
   "outputs": [
    {
     "name": "stdout",
     "output_type": "stream",
     "text": [
      "i=1 saldo_devedor=  94833.05 amortizacao=   5166.95 juros=  14017.50 valor_da_prestacao=  19184.45\n",
      "i=2 saldo_devedor=  88941.82 amortizacao=   5891.23 juros=  13293.22 valor_da_prestacao=  19184.45\n",
      "i=3 saldo_devedor=  82224.80 amortizacao=   6717.03 juros=  12467.42 valor_da_prestacao=  19184.45\n",
      "i=4 saldo_devedor=  74566.21 amortizacao=   7658.59 juros=  11525.86 valor_da_prestacao=  19184.45\n",
      "i=5 saldo_devedor=  65834.08 amortizacao=   8732.13 juros=  10452.32 valor_da_prestacao=  19184.45\n",
      "i=6 saldo_devedor=  55877.92 amortizacao=   9956.16 juros=   9228.29 valor_da_prestacao=  19184.45\n",
      "i=7 saldo_devedor=  44526.16 amortizacao=  11351.76 juros=   7832.69 valor_da_prestacao=  19184.45\n",
      "i=8 saldo_devedor=  31583.16 amortizacao=  12943.00 juros=   6241.45 valor_da_prestacao=  19184.45\n",
      "i=9 saldo_devedor=  16825.88 amortizacao=  14757.28 juros=   4427.17 valor_da_prestacao=  19184.45\n",
      "i=10 saldo_devedor=     -0.00 amortizacao=  16825.88 juros=   2358.57 valor_da_prestacao=  19184.45\n"
     ]
    }
   ],
   "source": [
    "saldo_devedor = valor_solicitado\n",
    "\n",
    "tabela = defaultdict(list)\n",
    "\n",
    "for i in range(1, numero_de_prestacoes+1):\n",
    "    # juros = vfuturo(saldo_devedor, taxa_mensal, 1) - saldo_devedor\n",
    "    juros = saldo_devedor * taxa_mensal\n",
    "    amortizacao = valor_da_prestacao - juros\n",
    "    saldo_devedor -= amortizacao\n",
    "\n",
    "    tabela['prestacao'].append(i)\n",
    "    tabela['saldo_devedor'].append(saldo_devedor)\n",
    "    tabela['amortizacao'].append(amortizacao)\n",
    "    tabela['juros'].append(juros)\n",
    "    tabela['valor_prestacao'].append(valor_da_prestacao)\n",
    "    tabela['valor_presente_prestacao'].append(vpresente(valor_da_prestacao,  taxa_mensal, i))\n",
    "\n",
    "    print(f\"{i=} {saldo_devedor=:10.2f} {amortizacao=:10.2f} {juros=:10.2f} {valor_da_prestacao=:10.2f}\")\n"
   ]
  },
  {
   "cell_type": "code",
   "execution_count": 130,
   "id": "c99e5137",
   "metadata": {},
   "outputs": [
    {
     "data": {
      "text/html": [
       "<style type=\"text/css\">\n",
       "</style>\n",
       "<table id=\"T_b3197\">\n",
       "  <thead>\n",
       "    <tr>\n",
       "      <th class=\"blank level0\" >&nbsp;</th>\n",
       "      <th id=\"T_b3197_level0_col0\" class=\"col_heading level0 col0\" >prestacao</th>\n",
       "      <th id=\"T_b3197_level0_col1\" class=\"col_heading level0 col1\" >saldo_devedor</th>\n",
       "      <th id=\"T_b3197_level0_col2\" class=\"col_heading level0 col2\" >amortizacao</th>\n",
       "      <th id=\"T_b3197_level0_col3\" class=\"col_heading level0 col3\" >juros</th>\n",
       "      <th id=\"T_b3197_level0_col4\" class=\"col_heading level0 col4\" >valor_prestacao</th>\n",
       "      <th id=\"T_b3197_level0_col5\" class=\"col_heading level0 col5\" >valor_presente_prestacao</th>\n",
       "    </tr>\n",
       "  </thead>\n",
       "  <tbody>\n",
       "    <tr>\n",
       "      <th id=\"T_b3197_level0_row0\" class=\"row_heading level0 row0\" >0</th>\n",
       "      <td id=\"T_b3197_row0_col0\" class=\"data row0 col0\" >1.00</td>\n",
       "      <td id=\"T_b3197_row0_col1\" class=\"data row0 col1\" >94833.05</td>\n",
       "      <td id=\"T_b3197_row0_col2\" class=\"data row0 col2\" >5166.95</td>\n",
       "      <td id=\"T_b3197_row0_col3\" class=\"data row0 col3\" >14017.50</td>\n",
       "      <td id=\"T_b3197_row0_col4\" class=\"data row0 col4\" >19184.45</td>\n",
       "      <td id=\"T_b3197_row0_col5\" class=\"data row0 col5\" >16825.88</td>\n",
       "    </tr>\n",
       "    <tr>\n",
       "      <th id=\"T_b3197_level0_row1\" class=\"row_heading level0 row1\" >1</th>\n",
       "      <td id=\"T_b3197_row1_col0\" class=\"data row1 col0\" >2.00</td>\n",
       "      <td id=\"T_b3197_row1_col1\" class=\"data row1 col1\" >88941.82</td>\n",
       "      <td id=\"T_b3197_row1_col2\" class=\"data row1 col2\" >5891.23</td>\n",
       "      <td id=\"T_b3197_row1_col3\" class=\"data row1 col3\" >13293.22</td>\n",
       "      <td id=\"T_b3197_row1_col4\" class=\"data row1 col4\" >19184.45</td>\n",
       "      <td id=\"T_b3197_row1_col5\" class=\"data row1 col5\" >14757.28</td>\n",
       "    </tr>\n",
       "    <tr>\n",
       "      <th id=\"T_b3197_level0_row2\" class=\"row_heading level0 row2\" >2</th>\n",
       "      <td id=\"T_b3197_row2_col0\" class=\"data row2 col0\" >3.00</td>\n",
       "      <td id=\"T_b3197_row2_col1\" class=\"data row2 col1\" >82224.80</td>\n",
       "      <td id=\"T_b3197_row2_col2\" class=\"data row2 col2\" >6717.03</td>\n",
       "      <td id=\"T_b3197_row2_col3\" class=\"data row2 col3\" >12467.42</td>\n",
       "      <td id=\"T_b3197_row2_col4\" class=\"data row2 col4\" >19184.45</td>\n",
       "      <td id=\"T_b3197_row2_col5\" class=\"data row2 col5\" >12943.00</td>\n",
       "    </tr>\n",
       "    <tr>\n",
       "      <th id=\"T_b3197_level0_row3\" class=\"row_heading level0 row3\" >3</th>\n",
       "      <td id=\"T_b3197_row3_col0\" class=\"data row3 col0\" >4.00</td>\n",
       "      <td id=\"T_b3197_row3_col1\" class=\"data row3 col1\" >74566.21</td>\n",
       "      <td id=\"T_b3197_row3_col2\" class=\"data row3 col2\" >7658.59</td>\n",
       "      <td id=\"T_b3197_row3_col3\" class=\"data row3 col3\" >11525.86</td>\n",
       "      <td id=\"T_b3197_row3_col4\" class=\"data row3 col4\" >19184.45</td>\n",
       "      <td id=\"T_b3197_row3_col5\" class=\"data row3 col5\" >11351.76</td>\n",
       "    </tr>\n",
       "    <tr>\n",
       "      <th id=\"T_b3197_level0_row4\" class=\"row_heading level0 row4\" >4</th>\n",
       "      <td id=\"T_b3197_row4_col0\" class=\"data row4 col0\" >5.00</td>\n",
       "      <td id=\"T_b3197_row4_col1\" class=\"data row4 col1\" >65834.08</td>\n",
       "      <td id=\"T_b3197_row4_col2\" class=\"data row4 col2\" >8732.13</td>\n",
       "      <td id=\"T_b3197_row4_col3\" class=\"data row4 col3\" >10452.32</td>\n",
       "      <td id=\"T_b3197_row4_col4\" class=\"data row4 col4\" >19184.45</td>\n",
       "      <td id=\"T_b3197_row4_col5\" class=\"data row4 col5\" >9956.16</td>\n",
       "    </tr>\n",
       "    <tr>\n",
       "      <th id=\"T_b3197_level0_row5\" class=\"row_heading level0 row5\" >5</th>\n",
       "      <td id=\"T_b3197_row5_col0\" class=\"data row5 col0\" >6.00</td>\n",
       "      <td id=\"T_b3197_row5_col1\" class=\"data row5 col1\" >55877.92</td>\n",
       "      <td id=\"T_b3197_row5_col2\" class=\"data row5 col2\" >9956.16</td>\n",
       "      <td id=\"T_b3197_row5_col3\" class=\"data row5 col3\" >9228.29</td>\n",
       "      <td id=\"T_b3197_row5_col4\" class=\"data row5 col4\" >19184.45</td>\n",
       "      <td id=\"T_b3197_row5_col5\" class=\"data row5 col5\" >8732.13</td>\n",
       "    </tr>\n",
       "    <tr>\n",
       "      <th id=\"T_b3197_level0_row6\" class=\"row_heading level0 row6\" >6</th>\n",
       "      <td id=\"T_b3197_row6_col0\" class=\"data row6 col0\" >7.00</td>\n",
       "      <td id=\"T_b3197_row6_col1\" class=\"data row6 col1\" >44526.16</td>\n",
       "      <td id=\"T_b3197_row6_col2\" class=\"data row6 col2\" >11351.76</td>\n",
       "      <td id=\"T_b3197_row6_col3\" class=\"data row6 col3\" >7832.69</td>\n",
       "      <td id=\"T_b3197_row6_col4\" class=\"data row6 col4\" >19184.45</td>\n",
       "      <td id=\"T_b3197_row6_col5\" class=\"data row6 col5\" >7658.59</td>\n",
       "    </tr>\n",
       "    <tr>\n",
       "      <th id=\"T_b3197_level0_row7\" class=\"row_heading level0 row7\" >7</th>\n",
       "      <td id=\"T_b3197_row7_col0\" class=\"data row7 col0\" >8.00</td>\n",
       "      <td id=\"T_b3197_row7_col1\" class=\"data row7 col1\" >31583.16</td>\n",
       "      <td id=\"T_b3197_row7_col2\" class=\"data row7 col2\" >12943.00</td>\n",
       "      <td id=\"T_b3197_row7_col3\" class=\"data row7 col3\" >6241.45</td>\n",
       "      <td id=\"T_b3197_row7_col4\" class=\"data row7 col4\" >19184.45</td>\n",
       "      <td id=\"T_b3197_row7_col5\" class=\"data row7 col5\" >6717.03</td>\n",
       "    </tr>\n",
       "    <tr>\n",
       "      <th id=\"T_b3197_level0_row8\" class=\"row_heading level0 row8\" >8</th>\n",
       "      <td id=\"T_b3197_row8_col0\" class=\"data row8 col0\" >9.00</td>\n",
       "      <td id=\"T_b3197_row8_col1\" class=\"data row8 col1\" >16825.88</td>\n",
       "      <td id=\"T_b3197_row8_col2\" class=\"data row8 col2\" >14757.28</td>\n",
       "      <td id=\"T_b3197_row8_col3\" class=\"data row8 col3\" >4427.17</td>\n",
       "      <td id=\"T_b3197_row8_col4\" class=\"data row8 col4\" >19184.45</td>\n",
       "      <td id=\"T_b3197_row8_col5\" class=\"data row8 col5\" >5891.23</td>\n",
       "    </tr>\n",
       "    <tr>\n",
       "      <th id=\"T_b3197_level0_row9\" class=\"row_heading level0 row9\" >9</th>\n",
       "      <td id=\"T_b3197_row9_col0\" class=\"data row9 col0\" >10.00</td>\n",
       "      <td id=\"T_b3197_row9_col1\" class=\"data row9 col1\" >-0.00</td>\n",
       "      <td id=\"T_b3197_row9_col2\" class=\"data row9 col2\" >16825.88</td>\n",
       "      <td id=\"T_b3197_row9_col3\" class=\"data row9 col3\" >2358.57</td>\n",
       "      <td id=\"T_b3197_row9_col4\" class=\"data row9 col4\" >19184.45</td>\n",
       "      <td id=\"T_b3197_row9_col5\" class=\"data row9 col5\" >5166.95</td>\n",
       "    </tr>\n",
       "  </tbody>\n",
       "</table>\n"
      ],
      "text/plain": [
       "<pandas.io.formats.style.Styler at 0x74f6a45d70b0>"
      ]
     },
     "execution_count": 130,
     "metadata": {},
     "output_type": "execute_result"
    }
   ],
   "source": [
    "tabela_valor_solicidado_dado = pd.DataFrame(tabela)\n",
    "tabela_valor_solicidado_dado.style.format('{:.2f}')"
   ]
  },
  {
   "cell_type": "code",
   "execution_count": 166,
   "id": "3566f109",
   "metadata": {},
   "outputs": [
    {
     "data": {
      "text/plain": [
       "amortizacao                 100000.000000\n",
       "juros                        91844.492124\n",
       "valor_prestacao             191844.492124\n",
       "valor_presente_prestacao    100000.000000\n",
       "dtype: float64"
      ]
     },
     "execution_count": 166,
     "metadata": {},
     "output_type": "execute_result"
    }
   ],
   "source": [
    "tabela_valor_solicidado_dado[['amortizacao', 'juros', 'valor_prestacao', 'valor_presente_prestacao']].sum()"
   ]
  },
  {
   "cell_type": "code",
   "execution_count": 173,
   "id": "1ce3c6fb",
   "metadata": {},
   "outputs": [],
   "source": [
    "valor_da_prestacao = 19_184.45"
   ]
  },
  {
   "cell_type": "code",
   "execution_count": 175,
   "id": "32b0816a",
   "metadata": {},
   "outputs": [
    {
     "name": "stdout",
     "output_type": "stream",
     "text": [
      "valor_solicitado= 100000.00\n"
     ]
    }
   ],
   "source": [
    "valor_solicitado = valor_da_prestacao * fator_de_financiamento\n",
    "print(f\"{valor_solicitado=:10.2f}\")"
   ]
  },
  {
   "cell_type": "code",
   "execution_count": 176,
   "id": "16f903a5",
   "metadata": {},
   "outputs": [
    {
     "name": "stdout",
     "output_type": "stream",
     "text": [
      "i=1 saldo_devedor=  94833.05 amortizacao=   5166.95 juros=  14017.50 valor_da_prestacao=  19184.45\n",
      "i=2 saldo_devedor=  88941.83 amortizacao=   5891.23 juros=  13293.22 valor_da_prestacao=  19184.45\n",
      "i=3 saldo_devedor=  82224.80 amortizacao=   6717.03 juros=  12467.42 valor_da_prestacao=  19184.45\n",
      "i=4 saldo_devedor=  74566.21 amortizacao=   7658.59 juros=  11525.86 valor_da_prestacao=  19184.45\n",
      "i=5 saldo_devedor=  65834.08 amortizacao=   8732.13 juros=  10452.32 valor_da_prestacao=  19184.45\n",
      "i=6 saldo_devedor=  55877.92 amortizacao=   9956.16 juros=   9228.29 valor_da_prestacao=  19184.45\n",
      "i=7 saldo_devedor=  44526.16 amortizacao=  11351.76 juros=   7832.69 valor_da_prestacao=  19184.45\n",
      "i=8 saldo_devedor=  31583.16 amortizacao=  12943.00 juros=   6241.45 valor_da_prestacao=  19184.45\n",
      "i=9 saldo_devedor=  16825.88 amortizacao=  14757.28 juros=   4427.17 valor_da_prestacao=  19184.45\n",
      "i=10 saldo_devedor=     -0.00 amortizacao=  16825.88 juros=   2358.57 valor_da_prestacao=  19184.45\n"
     ]
    }
   ],
   "source": [
    "saldo_devedor = valor_solicitado\n",
    "\n",
    "tabela = defaultdict(list)\n",
    "\n",
    "for i in range(1, numero_de_prestacoes+1):\n",
    "    # juros = vfuturo(saldo_devedor, taxa_mensal, 1) - saldo_devedor\n",
    "    juros = saldo_devedor * taxa_mensal\n",
    "    amortizacao = valor_da_prestacao - juros\n",
    "    saldo_devedor -= amortizacao\n",
    "\n",
    "    tabela['prestacao'].append(i)\n",
    "    tabela['saldo_devedor'].append(saldo_devedor)\n",
    "    tabela['amortizacao'].append(amortizacao)\n",
    "    tabela['juros'].append(juros)\n",
    "    tabela['valor_prestacao'].append(valor_da_prestacao)\n",
    "    tabela['valor_presente_prestacao'].append(vpresente(valor_da_prestacao,  taxa_mensal, i))\n",
    "\n",
    "    print(f\"{i=} {saldo_devedor=:10.2f} {amortizacao=:10.2f} {juros=:10.2f} {valor_da_prestacao=:10.2f}\")"
   ]
  },
  {
   "cell_type": "code",
   "execution_count": null,
   "id": "d39ca4ed",
   "metadata": {},
   "outputs": [
    {
     "data": {
      "text/html": [
       "<style type=\"text/css\">\n",
       "</style>\n",
       "<table id=\"T_a2ccb\">\n",
       "  <thead>\n",
       "    <tr>\n",
       "      <th class=\"blank level0\" >&nbsp;</th>\n",
       "      <th id=\"T_a2ccb_level0_col0\" class=\"col_heading level0 col0\" >prestacao</th>\n",
       "      <th id=\"T_a2ccb_level0_col1\" class=\"col_heading level0 col1\" >saldo_devedor</th>\n",
       "      <th id=\"T_a2ccb_level0_col2\" class=\"col_heading level0 col2\" >amortizacao</th>\n",
       "      <th id=\"T_a2ccb_level0_col3\" class=\"col_heading level0 col3\" >juros</th>\n",
       "      <th id=\"T_a2ccb_level0_col4\" class=\"col_heading level0 col4\" >valor_prestacao</th>\n",
       "      <th id=\"T_a2ccb_level0_col5\" class=\"col_heading level0 col5\" >valor_presente_prestacao</th>\n",
       "    </tr>\n",
       "  </thead>\n",
       "  <tbody>\n",
       "    <tr>\n",
       "      <th id=\"T_a2ccb_level0_row0\" class=\"row_heading level0 row0\" >0</th>\n",
       "      <td id=\"T_a2ccb_row0_col0\" class=\"data row0 col0\" >1.00</td>\n",
       "      <td id=\"T_a2ccb_row0_col1\" class=\"data row0 col1\" >94833.05</td>\n",
       "      <td id=\"T_a2ccb_row0_col2\" class=\"data row0 col2\" >5166.95</td>\n",
       "      <td id=\"T_a2ccb_row0_col3\" class=\"data row0 col3\" >14017.50</td>\n",
       "      <td id=\"T_a2ccb_row0_col4\" class=\"data row0 col4\" >19184.45</td>\n",
       "      <td id=\"T_a2ccb_row0_col5\" class=\"data row0 col5\" >16825.88</td>\n",
       "    </tr>\n",
       "    <tr>\n",
       "      <th id=\"T_a2ccb_level0_row1\" class=\"row_heading level0 row1\" >1</th>\n",
       "      <td id=\"T_a2ccb_row1_col0\" class=\"data row1 col0\" >2.00</td>\n",
       "      <td id=\"T_a2ccb_row1_col1\" class=\"data row1 col1\" >88941.83</td>\n",
       "      <td id=\"T_a2ccb_row1_col2\" class=\"data row1 col2\" >5891.23</td>\n",
       "      <td id=\"T_a2ccb_row1_col3\" class=\"data row1 col3\" >13293.22</td>\n",
       "      <td id=\"T_a2ccb_row1_col4\" class=\"data row1 col4\" >19184.45</td>\n",
       "      <td id=\"T_a2ccb_row1_col5\" class=\"data row1 col5\" >14757.28</td>\n",
       "    </tr>\n",
       "    <tr>\n",
       "      <th id=\"T_a2ccb_level0_row2\" class=\"row_heading level0 row2\" >2</th>\n",
       "      <td id=\"T_a2ccb_row2_col0\" class=\"data row2 col0\" >3.00</td>\n",
       "      <td id=\"T_a2ccb_row2_col1\" class=\"data row2 col1\" >82224.80</td>\n",
       "      <td id=\"T_a2ccb_row2_col2\" class=\"data row2 col2\" >6717.03</td>\n",
       "      <td id=\"T_a2ccb_row2_col3\" class=\"data row2 col3\" >12467.42</td>\n",
       "      <td id=\"T_a2ccb_row2_col4\" class=\"data row2 col4\" >19184.45</td>\n",
       "      <td id=\"T_a2ccb_row2_col5\" class=\"data row2 col5\" >12943.00</td>\n",
       "    </tr>\n",
       "    <tr>\n",
       "      <th id=\"T_a2ccb_level0_row3\" class=\"row_heading level0 row3\" >3</th>\n",
       "      <td id=\"T_a2ccb_row3_col0\" class=\"data row3 col0\" >4.00</td>\n",
       "      <td id=\"T_a2ccb_row3_col1\" class=\"data row3 col1\" >74566.21</td>\n",
       "      <td id=\"T_a2ccb_row3_col2\" class=\"data row3 col2\" >7658.59</td>\n",
       "      <td id=\"T_a2ccb_row3_col3\" class=\"data row3 col3\" >11525.86</td>\n",
       "      <td id=\"T_a2ccb_row3_col4\" class=\"data row3 col4\" >19184.45</td>\n",
       "      <td id=\"T_a2ccb_row3_col5\" class=\"data row3 col5\" >11351.76</td>\n",
       "    </tr>\n",
       "    <tr>\n",
       "      <th id=\"T_a2ccb_level0_row4\" class=\"row_heading level0 row4\" >4</th>\n",
       "      <td id=\"T_a2ccb_row4_col0\" class=\"data row4 col0\" >5.00</td>\n",
       "      <td id=\"T_a2ccb_row4_col1\" class=\"data row4 col1\" >65834.08</td>\n",
       "      <td id=\"T_a2ccb_row4_col2\" class=\"data row4 col2\" >8732.13</td>\n",
       "      <td id=\"T_a2ccb_row4_col3\" class=\"data row4 col3\" >10452.32</td>\n",
       "      <td id=\"T_a2ccb_row4_col4\" class=\"data row4 col4\" >19184.45</td>\n",
       "      <td id=\"T_a2ccb_row4_col5\" class=\"data row4 col5\" >9956.16</td>\n",
       "    </tr>\n",
       "    <tr>\n",
       "      <th id=\"T_a2ccb_level0_row5\" class=\"row_heading level0 row5\" >5</th>\n",
       "      <td id=\"T_a2ccb_row5_col0\" class=\"data row5 col0\" >6.00</td>\n",
       "      <td id=\"T_a2ccb_row5_col1\" class=\"data row5 col1\" >55877.92</td>\n",
       "      <td id=\"T_a2ccb_row5_col2\" class=\"data row5 col2\" >9956.16</td>\n",
       "      <td id=\"T_a2ccb_row5_col3\" class=\"data row5 col3\" >9228.29</td>\n",
       "      <td id=\"T_a2ccb_row5_col4\" class=\"data row5 col4\" >19184.45</td>\n",
       "      <td id=\"T_a2ccb_row5_col5\" class=\"data row5 col5\" >8732.13</td>\n",
       "    </tr>\n",
       "    <tr>\n",
       "      <th id=\"T_a2ccb_level0_row6\" class=\"row_heading level0 row6\" >6</th>\n",
       "      <td id=\"T_a2ccb_row6_col0\" class=\"data row6 col0\" >7.00</td>\n",
       "      <td id=\"T_a2ccb_row6_col1\" class=\"data row6 col1\" >44526.16</td>\n",
       "      <td id=\"T_a2ccb_row6_col2\" class=\"data row6 col2\" >11351.76</td>\n",
       "      <td id=\"T_a2ccb_row6_col3\" class=\"data row6 col3\" >7832.69</td>\n",
       "      <td id=\"T_a2ccb_row6_col4\" class=\"data row6 col4\" >19184.45</td>\n",
       "      <td id=\"T_a2ccb_row6_col5\" class=\"data row6 col5\" >7658.59</td>\n",
       "    </tr>\n",
       "    <tr>\n",
       "      <th id=\"T_a2ccb_level0_row7\" class=\"row_heading level0 row7\" >7</th>\n",
       "      <td id=\"T_a2ccb_row7_col0\" class=\"data row7 col0\" >8.00</td>\n",
       "      <td id=\"T_a2ccb_row7_col1\" class=\"data row7 col1\" >31583.16</td>\n",
       "      <td id=\"T_a2ccb_row7_col2\" class=\"data row7 col2\" >12943.00</td>\n",
       "      <td id=\"T_a2ccb_row7_col3\" class=\"data row7 col3\" >6241.45</td>\n",
       "      <td id=\"T_a2ccb_row7_col4\" class=\"data row7 col4\" >19184.45</td>\n",
       "      <td id=\"T_a2ccb_row7_col5\" class=\"data row7 col5\" >6717.03</td>\n",
       "    </tr>\n",
       "    <tr>\n",
       "      <th id=\"T_a2ccb_level0_row8\" class=\"row_heading level0 row8\" >8</th>\n",
       "      <td id=\"T_a2ccb_row8_col0\" class=\"data row8 col0\" >9.00</td>\n",
       "      <td id=\"T_a2ccb_row8_col1\" class=\"data row8 col1\" >16825.88</td>\n",
       "      <td id=\"T_a2ccb_row8_col2\" class=\"data row8 col2\" >14757.28</td>\n",
       "      <td id=\"T_a2ccb_row8_col3\" class=\"data row8 col3\" >4427.17</td>\n",
       "      <td id=\"T_a2ccb_row8_col4\" class=\"data row8 col4\" >19184.45</td>\n",
       "      <td id=\"T_a2ccb_row8_col5\" class=\"data row8 col5\" >5891.23</td>\n",
       "    </tr>\n",
       "    <tr>\n",
       "      <th id=\"T_a2ccb_level0_row9\" class=\"row_heading level0 row9\" >9</th>\n",
       "      <td id=\"T_a2ccb_row9_col0\" class=\"data row9 col0\" >10.00</td>\n",
       "      <td id=\"T_a2ccb_row9_col1\" class=\"data row9 col1\" >-0.00</td>\n",
       "      <td id=\"T_a2ccb_row9_col2\" class=\"data row9 col2\" >16825.88</td>\n",
       "      <td id=\"T_a2ccb_row9_col3\" class=\"data row9 col3\" >2358.57</td>\n",
       "      <td id=\"T_a2ccb_row9_col4\" class=\"data row9 col4\" >19184.45</td>\n",
       "      <td id=\"T_a2ccb_row9_col5\" class=\"data row9 col5\" >5166.95</td>\n",
       "    </tr>\n",
       "  </tbody>\n",
       "</table>\n"
      ],
      "text/plain": [
       "<pandas.io.formats.style.Styler at 0x74f6a40a41d0>"
      ]
     },
     "execution_count": 177,
     "metadata": {},
     "output_type": "execute_result"
    }
   ],
   "source": [
    "tabela_valor_prestacao_dado = pd.DataFrame(tabela)\n",
    "tabela_valor_prestacao_dado.style.format('{:.2f}')"
   ]
  },
  {
   "cell_type": "markdown",
   "id": "887a0327",
   "metadata": {},
   "source": [
    "# Calcular o fator usando a tabela\n",
    "\n",
    "A soma do valor presente de recebiveis unitarios gera o fator financiado"
   ]
  },
  {
   "cell_type": "code",
   "execution_count": 179,
   "id": "13455be6",
   "metadata": {},
   "outputs": [
    {
     "data": {
      "text/plain": [
       "5.212555173873027"
      ]
     },
     "execution_count": 179,
     "metadata": {},
     "output_type": "execute_result"
    }
   ],
   "source": [
    "valor_solicitado_recebivel_unitario = sum(vpresente(1, taxa_mensal, i) for i in range(1, numero_de_prestacoes+1))\n",
    "valor_solicitado_recebivel_unitario"
   ]
  },
  {
   "cell_type": "code",
   "execution_count": 181,
   "id": "a4635e60",
   "metadata": {},
   "outputs": [
    {
     "data": {
      "text/plain": [
       "(5.212555173873025, 5.212555173873027)"
      ]
     },
     "execution_count": 181,
     "metadata": {},
     "output_type": "execute_result"
    }
   ],
   "source": [
    "fator_de_financiamento, valor_solicitado_recebivel_unitario"
   ]
  },
  {
   "cell_type": "code",
   "execution_count": null,
   "id": "d516a5f9",
   "metadata": {},
   "outputs": [],
   "source": []
  }
 ],
 "metadata": {
  "kernelspec": {
   "display_name": "tabela-price",
   "language": "python",
   "name": "python3"
  },
  "language_info": {
   "codemirror_mode": {
    "name": "ipython",
    "version": 3
   },
   "file_extension": ".py",
   "mimetype": "text/x-python",
   "name": "python",
   "nbconvert_exporter": "python",
   "pygments_lexer": "ipython3",
   "version": "3.12.4"
  }
 },
 "nbformat": 4,
 "nbformat_minor": 5
}
