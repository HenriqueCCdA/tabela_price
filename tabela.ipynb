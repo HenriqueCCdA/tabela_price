{
 "cells": [
  {
   "cell_type": "code",
   "execution_count": 6,
   "id": "b16d95c6",
   "metadata": {},
   "outputs": [],
   "source": [
    "from collections import defaultdict\n",
    "import pandas as pd\n",
    "\n",
    "def vfuturo(vp, i, n):\n",
    "    return vp*(1+i)**n\n",
    "\n",
    "def vpresente(vf, i, n):\n",
    "    return vf/(1+i)**n\n",
    "\n",
    "def caculo_fator_de_financiamento(i, n):\n",
    "    return (1 - (1 + i)**(-n)) / i"
   ]
  },
  {
   "cell_type": "markdown",
   "id": "c54a6ad4",
   "metadata": {},
   "source": [
    "# Relação prestação x valor solicitado\n",
    "\n",
    "$$ PV = PMT * FPV(i,n) $$\n",
    "\n",
    "com:\n",
    " \n",
    "$$ FPV(i, n) = \\frac{1 - (1 + i)^{-n}}{i}$$\n",
    "\n",
    "Onde:\n",
    "\n",
    "- PV: Valor solicitado\n",
    "- PMT: Valor da prestação\n",
    "- n: Número de prestações\n",
    "- i: taxa de jutos\n"
   ]
  },
  {
   "cell_type": "markdown",
   "id": "558a215f",
   "metadata": {},
   "source": [
    "## Informando o valor solicitado "
   ]
  },
  {
   "cell_type": "code",
   "execution_count": 12,
   "id": "704fe724",
   "metadata": {},
   "outputs": [],
   "source": [
    "taxa_mensal = 0.01\n",
    "valor_solicitado = 20_000\n",
    "numero_de_prestacoes = 15"
   ]
  },
  {
   "cell_type": "code",
   "execution_count": 13,
   "id": "29dd3d74",
   "metadata": {},
   "outputs": [
    {
     "name": "stdout",
     "output_type": "stream",
     "text": [
      "fator_de_financiamento=     13.87\n"
     ]
    }
   ],
   "source": [
    "fator_de_financiamento = caculo_fator_de_financiamento(taxa_mensal, numero_de_prestacoes)\n",
    "print(f\"{fator_de_financiamento=:10.2f}\")"
   ]
  },
  {
   "cell_type": "code",
   "execution_count": 14,
   "id": "0ae0ce84",
   "metadata": {},
   "outputs": [
    {
     "name": "stdout",
     "output_type": "stream",
     "text": [
      "valor_da_prestacao=   1442.48\n"
     ]
    }
   ],
   "source": [
    "valor_da_prestacao = valor_solicitado / fator_de_financiamento\n",
    "print(f\"{valor_da_prestacao=:10.2f}\")"
   ]
  },
  {
   "cell_type": "code",
   "execution_count": 15,
   "id": "e2ab089d",
   "metadata": {},
   "outputs": [
    {
     "name": "stdout",
     "output_type": "stream",
     "text": [
      "i=1 saldo_devedor=  18757.52 amortizacao=   1242.48 juros=    200.00 valor_da_prestacao=   1442.48\n",
      "i=2 saldo_devedor=  17502.62 amortizacao=   1254.90 juros=    187.58 valor_da_prestacao=   1442.48\n",
      "i=3 saldo_devedor=  16235.17 amortizacao=   1267.45 juros=    175.03 valor_da_prestacao=   1442.48\n",
      "i=4 saldo_devedor=  14955.05 amortizacao=   1280.12 juros=    162.35 valor_da_prestacao=   1442.48\n",
      "i=5 saldo_devedor=  13662.13 amortizacao=   1292.93 juros=    149.55 valor_da_prestacao=   1442.48\n",
      "i=6 saldo_devedor=  12356.27 amortizacao=   1305.85 juros=    136.62 valor_da_prestacao=   1442.48\n",
      "i=7 saldo_devedor=  11037.36 amortizacao=   1318.91 juros=    123.56 valor_da_prestacao=   1442.48\n",
      "i=8 saldo_devedor=   9705.26 amortizacao=   1332.10 juros=    110.37 valor_da_prestacao=   1442.48\n",
      "i=9 saldo_devedor=   8359.83 amortizacao=   1345.42 juros=     97.05 valor_da_prestacao=   1442.48\n",
      "i=10 saldo_devedor=   7000.96 amortizacao=   1358.88 juros=     83.60 valor_da_prestacao=   1442.48\n",
      "i=11 saldo_devedor=   5628.49 amortizacao=   1372.47 juros=     70.01 valor_da_prestacao=   1442.48\n",
      "i=12 saldo_devedor=   4242.30 amortizacao=   1386.19 juros=     56.28 valor_da_prestacao=   1442.48\n",
      "i=13 saldo_devedor=   2842.25 amortizacao=   1400.05 juros=     42.42 valor_da_prestacao=   1442.48\n",
      "i=14 saldo_devedor=   1428.19 amortizacao=   1414.05 juros=     28.42 valor_da_prestacao=   1442.48\n",
      "i=15 saldo_devedor=      0.00 amortizacao=   1428.19 juros=     14.28 valor_da_prestacao=   1442.48\n"
     ]
    }
   ],
   "source": [
    "saldo_devedor = valor_solicitado\n",
    "\n",
    "tabela = defaultdict(list)\n",
    "\n",
    "for i in range(1, numero_de_prestacoes+1):\n",
    "    # juros = vfuturo(saldo_devedor, taxa_mensal, 1) - saldo_devedor\n",
    "    juros = saldo_devedor * taxa_mensal\n",
    "    amortizacao = valor_da_prestacao - juros # principal\n",
    "    amortizacao = valor_da_prestacao - juros # principal\n",
    "    saldo_devedor -= amortizacao\n",
    "\n",
    "    tabela['prestacao'].append(i)\n",
    "    tabela['saldo_devedor'].append(saldo_devedor)\n",
    "    tabela['amortizacao'].append(amortizacao)\n",
    "    tabela['juros'].append(juros)\n",
    "    tabela['valor_prestacao'].append(valor_da_prestacao)\n",
    "    tabela['valor_presente_prestacao'].append(vpresente(valor_da_prestacao,  taxa_mensal, i))\n",
    "\n",
    "    print(f\"{i=} {saldo_devedor=:10.2f} {amortizacao=:10.2f} {juros=:10.2f} {valor_da_prestacao=:10.2f}\")\n"
   ]
  },
  {
   "cell_type": "code",
   "execution_count": 22,
   "id": "c99e5137",
   "metadata": {},
   "outputs": [
    {
     "data": {
      "text/html": [
       "<style type=\"text/css\">\n",
       "</style>\n",
       "<table id=\"T_efae2\">\n",
       "  <thead>\n",
       "    <tr>\n",
       "      <th class=\"blank level0\" >&nbsp;</th>\n",
       "      <th id=\"T_efae2_level0_col0\" class=\"col_heading level0 col0\" >prestacao</th>\n",
       "      <th id=\"T_efae2_level0_col1\" class=\"col_heading level0 col1\" >saldo_devedor</th>\n",
       "      <th id=\"T_efae2_level0_col2\" class=\"col_heading level0 col2\" >amortizacao</th>\n",
       "      <th id=\"T_efae2_level0_col3\" class=\"col_heading level0 col3\" >juros</th>\n",
       "      <th id=\"T_efae2_level0_col4\" class=\"col_heading level0 col4\" >valor_prestacao</th>\n",
       "      <th id=\"T_efae2_level0_col5\" class=\"col_heading level0 col5\" >valor_presente_prestacao</th>\n",
       "    </tr>\n",
       "  </thead>\n",
       "  <tbody>\n",
       "    <tr>\n",
       "      <th id=\"T_efae2_level0_row0\" class=\"row_heading level0 row0\" >0</th>\n",
       "      <td id=\"T_efae2_row0_col0\" class=\"data row0 col0\" >1.00</td>\n",
       "      <td id=\"T_efae2_row0_col1\" class=\"data row0 col1\" >18757.52</td>\n",
       "      <td id=\"T_efae2_row0_col2\" class=\"data row0 col2\" >1242.48</td>\n",
       "      <td id=\"T_efae2_row0_col3\" class=\"data row0 col3\" >200.00</td>\n",
       "      <td id=\"T_efae2_row0_col4\" class=\"data row0 col4\" >1442.48</td>\n",
       "      <td id=\"T_efae2_row0_col5\" class=\"data row0 col5\" >1428.19</td>\n",
       "    </tr>\n",
       "    <tr>\n",
       "      <th id=\"T_efae2_level0_row1\" class=\"row_heading level0 row1\" >1</th>\n",
       "      <td id=\"T_efae2_row1_col0\" class=\"data row1 col0\" >2.00</td>\n",
       "      <td id=\"T_efae2_row1_col1\" class=\"data row1 col1\" >17502.62</td>\n",
       "      <td id=\"T_efae2_row1_col2\" class=\"data row1 col2\" >1254.90</td>\n",
       "      <td id=\"T_efae2_row1_col3\" class=\"data row1 col3\" >187.58</td>\n",
       "      <td id=\"T_efae2_row1_col4\" class=\"data row1 col4\" >1442.48</td>\n",
       "      <td id=\"T_efae2_row1_col5\" class=\"data row1 col5\" >1414.05</td>\n",
       "    </tr>\n",
       "    <tr>\n",
       "      <th id=\"T_efae2_level0_row2\" class=\"row_heading level0 row2\" >2</th>\n",
       "      <td id=\"T_efae2_row2_col0\" class=\"data row2 col0\" >3.00</td>\n",
       "      <td id=\"T_efae2_row2_col1\" class=\"data row2 col1\" >16235.17</td>\n",
       "      <td id=\"T_efae2_row2_col2\" class=\"data row2 col2\" >1267.45</td>\n",
       "      <td id=\"T_efae2_row2_col3\" class=\"data row2 col3\" >175.03</td>\n",
       "      <td id=\"T_efae2_row2_col4\" class=\"data row2 col4\" >1442.48</td>\n",
       "      <td id=\"T_efae2_row2_col5\" class=\"data row2 col5\" >1400.05</td>\n",
       "    </tr>\n",
       "    <tr>\n",
       "      <th id=\"T_efae2_level0_row3\" class=\"row_heading level0 row3\" >3</th>\n",
       "      <td id=\"T_efae2_row3_col0\" class=\"data row3 col0\" >4.00</td>\n",
       "      <td id=\"T_efae2_row3_col1\" class=\"data row3 col1\" >14955.05</td>\n",
       "      <td id=\"T_efae2_row3_col2\" class=\"data row3 col2\" >1280.12</td>\n",
       "      <td id=\"T_efae2_row3_col3\" class=\"data row3 col3\" >162.35</td>\n",
       "      <td id=\"T_efae2_row3_col4\" class=\"data row3 col4\" >1442.48</td>\n",
       "      <td id=\"T_efae2_row3_col5\" class=\"data row3 col5\" >1386.19</td>\n",
       "    </tr>\n",
       "    <tr>\n",
       "      <th id=\"T_efae2_level0_row4\" class=\"row_heading level0 row4\" >4</th>\n",
       "      <td id=\"T_efae2_row4_col0\" class=\"data row4 col0\" >5.00</td>\n",
       "      <td id=\"T_efae2_row4_col1\" class=\"data row4 col1\" >13662.13</td>\n",
       "      <td id=\"T_efae2_row4_col2\" class=\"data row4 col2\" >1292.93</td>\n",
       "      <td id=\"T_efae2_row4_col3\" class=\"data row4 col3\" >149.55</td>\n",
       "      <td id=\"T_efae2_row4_col4\" class=\"data row4 col4\" >1442.48</td>\n",
       "      <td id=\"T_efae2_row4_col5\" class=\"data row4 col5\" >1372.47</td>\n",
       "    </tr>\n",
       "    <tr>\n",
       "      <th id=\"T_efae2_level0_row5\" class=\"row_heading level0 row5\" >5</th>\n",
       "      <td id=\"T_efae2_row5_col0\" class=\"data row5 col0\" >6.00</td>\n",
       "      <td id=\"T_efae2_row5_col1\" class=\"data row5 col1\" >12356.27</td>\n",
       "      <td id=\"T_efae2_row5_col2\" class=\"data row5 col2\" >1305.85</td>\n",
       "      <td id=\"T_efae2_row5_col3\" class=\"data row5 col3\" >136.62</td>\n",
       "      <td id=\"T_efae2_row5_col4\" class=\"data row5 col4\" >1442.48</td>\n",
       "      <td id=\"T_efae2_row5_col5\" class=\"data row5 col5\" >1358.88</td>\n",
       "    </tr>\n",
       "    <tr>\n",
       "      <th id=\"T_efae2_level0_row6\" class=\"row_heading level0 row6\" >6</th>\n",
       "      <td id=\"T_efae2_row6_col0\" class=\"data row6 col0\" >7.00</td>\n",
       "      <td id=\"T_efae2_row6_col1\" class=\"data row6 col1\" >11037.36</td>\n",
       "      <td id=\"T_efae2_row6_col2\" class=\"data row6 col2\" >1318.91</td>\n",
       "      <td id=\"T_efae2_row6_col3\" class=\"data row6 col3\" >123.56</td>\n",
       "      <td id=\"T_efae2_row6_col4\" class=\"data row6 col4\" >1442.48</td>\n",
       "      <td id=\"T_efae2_row6_col5\" class=\"data row6 col5\" >1345.42</td>\n",
       "    </tr>\n",
       "    <tr>\n",
       "      <th id=\"T_efae2_level0_row7\" class=\"row_heading level0 row7\" >7</th>\n",
       "      <td id=\"T_efae2_row7_col0\" class=\"data row7 col0\" >8.00</td>\n",
       "      <td id=\"T_efae2_row7_col1\" class=\"data row7 col1\" >9705.26</td>\n",
       "      <td id=\"T_efae2_row7_col2\" class=\"data row7 col2\" >1332.10</td>\n",
       "      <td id=\"T_efae2_row7_col3\" class=\"data row7 col3\" >110.37</td>\n",
       "      <td id=\"T_efae2_row7_col4\" class=\"data row7 col4\" >1442.48</td>\n",
       "      <td id=\"T_efae2_row7_col5\" class=\"data row7 col5\" >1332.10</td>\n",
       "    </tr>\n",
       "    <tr>\n",
       "      <th id=\"T_efae2_level0_row8\" class=\"row_heading level0 row8\" >8</th>\n",
       "      <td id=\"T_efae2_row8_col0\" class=\"data row8 col0\" >9.00</td>\n",
       "      <td id=\"T_efae2_row8_col1\" class=\"data row8 col1\" >8359.83</td>\n",
       "      <td id=\"T_efae2_row8_col2\" class=\"data row8 col2\" >1345.42</td>\n",
       "      <td id=\"T_efae2_row8_col3\" class=\"data row8 col3\" >97.05</td>\n",
       "      <td id=\"T_efae2_row8_col4\" class=\"data row8 col4\" >1442.48</td>\n",
       "      <td id=\"T_efae2_row8_col5\" class=\"data row8 col5\" >1318.91</td>\n",
       "    </tr>\n",
       "    <tr>\n",
       "      <th id=\"T_efae2_level0_row9\" class=\"row_heading level0 row9\" >9</th>\n",
       "      <td id=\"T_efae2_row9_col0\" class=\"data row9 col0\" >10.00</td>\n",
       "      <td id=\"T_efae2_row9_col1\" class=\"data row9 col1\" >7000.96</td>\n",
       "      <td id=\"T_efae2_row9_col2\" class=\"data row9 col2\" >1358.88</td>\n",
       "      <td id=\"T_efae2_row9_col3\" class=\"data row9 col3\" >83.60</td>\n",
       "      <td id=\"T_efae2_row9_col4\" class=\"data row9 col4\" >1442.48</td>\n",
       "      <td id=\"T_efae2_row9_col5\" class=\"data row9 col5\" >1305.85</td>\n",
       "    </tr>\n",
       "    <tr>\n",
       "      <th id=\"T_efae2_level0_row10\" class=\"row_heading level0 row10\" >10</th>\n",
       "      <td id=\"T_efae2_row10_col0\" class=\"data row10 col0\" >11.00</td>\n",
       "      <td id=\"T_efae2_row10_col1\" class=\"data row10 col1\" >5628.49</td>\n",
       "      <td id=\"T_efae2_row10_col2\" class=\"data row10 col2\" >1372.47</td>\n",
       "      <td id=\"T_efae2_row10_col3\" class=\"data row10 col3\" >70.01</td>\n",
       "      <td id=\"T_efae2_row10_col4\" class=\"data row10 col4\" >1442.48</td>\n",
       "      <td id=\"T_efae2_row10_col5\" class=\"data row10 col5\" >1292.93</td>\n",
       "    </tr>\n",
       "    <tr>\n",
       "      <th id=\"T_efae2_level0_row11\" class=\"row_heading level0 row11\" >11</th>\n",
       "      <td id=\"T_efae2_row11_col0\" class=\"data row11 col0\" >12.00</td>\n",
       "      <td id=\"T_efae2_row11_col1\" class=\"data row11 col1\" >4242.30</td>\n",
       "      <td id=\"T_efae2_row11_col2\" class=\"data row11 col2\" >1386.19</td>\n",
       "      <td id=\"T_efae2_row11_col3\" class=\"data row11 col3\" >56.28</td>\n",
       "      <td id=\"T_efae2_row11_col4\" class=\"data row11 col4\" >1442.48</td>\n",
       "      <td id=\"T_efae2_row11_col5\" class=\"data row11 col5\" >1280.12</td>\n",
       "    </tr>\n",
       "    <tr>\n",
       "      <th id=\"T_efae2_level0_row12\" class=\"row_heading level0 row12\" >12</th>\n",
       "      <td id=\"T_efae2_row12_col0\" class=\"data row12 col0\" >13.00</td>\n",
       "      <td id=\"T_efae2_row12_col1\" class=\"data row12 col1\" >2842.25</td>\n",
       "      <td id=\"T_efae2_row12_col2\" class=\"data row12 col2\" >1400.05</td>\n",
       "      <td id=\"T_efae2_row12_col3\" class=\"data row12 col3\" >42.42</td>\n",
       "      <td id=\"T_efae2_row12_col4\" class=\"data row12 col4\" >1442.48</td>\n",
       "      <td id=\"T_efae2_row12_col5\" class=\"data row12 col5\" >1267.45</td>\n",
       "    </tr>\n",
       "    <tr>\n",
       "      <th id=\"T_efae2_level0_row13\" class=\"row_heading level0 row13\" >13</th>\n",
       "      <td id=\"T_efae2_row13_col0\" class=\"data row13 col0\" >14.00</td>\n",
       "      <td id=\"T_efae2_row13_col1\" class=\"data row13 col1\" >1428.19</td>\n",
       "      <td id=\"T_efae2_row13_col2\" class=\"data row13 col2\" >1414.05</td>\n",
       "      <td id=\"T_efae2_row13_col3\" class=\"data row13 col3\" >28.42</td>\n",
       "      <td id=\"T_efae2_row13_col4\" class=\"data row13 col4\" >1442.48</td>\n",
       "      <td id=\"T_efae2_row13_col5\" class=\"data row13 col5\" >1254.90</td>\n",
       "    </tr>\n",
       "    <tr>\n",
       "      <th id=\"T_efae2_level0_row14\" class=\"row_heading level0 row14\" >14</th>\n",
       "      <td id=\"T_efae2_row14_col0\" class=\"data row14 col0\" >15.00</td>\n",
       "      <td id=\"T_efae2_row14_col1\" class=\"data row14 col1\" >0.00</td>\n",
       "      <td id=\"T_efae2_row14_col2\" class=\"data row14 col2\" >1428.19</td>\n",
       "      <td id=\"T_efae2_row14_col3\" class=\"data row14 col3\" >14.28</td>\n",
       "      <td id=\"T_efae2_row14_col4\" class=\"data row14 col4\" >1442.48</td>\n",
       "      <td id=\"T_efae2_row14_col5\" class=\"data row14 col5\" >1242.48</td>\n",
       "    </tr>\n",
       "  </tbody>\n",
       "</table>\n"
      ],
      "text/plain": [
       "<pandas.io.formats.style.Styler at 0x7739165b42f0>"
      ]
     },
     "execution_count": 22,
     "metadata": {},
     "output_type": "execute_result"
    }
   ],
   "source": [
    "tabela_valor_solicidado_dado = pd.DataFrame(tabela)\n",
    "tabela_valor_solicidado_dado.style.format('{:.2f}')"
   ]
  },
  {
   "cell_type": "code",
   "execution_count": 21,
   "id": "3566f109",
   "metadata": {},
   "outputs": [
    {
     "data": {
      "text/plain": [
       "amortizacao                 20000.000000\n",
       "juros                        1637.134055\n",
       "valor_prestacao             21637.134055\n",
       "valor_presente_prestacao    20000.000000\n",
       "dtype: float64"
      ]
     },
     "execution_count": 21,
     "metadata": {},
     "output_type": "execute_result"
    }
   ],
   "source": [
    "tabela_valor_solicidado_dado[['amortizacao', 'juros', 'valor_prestacao', 'valor_presente_prestacao']].sum()"
   ]
  },
  {
   "cell_type": "code",
   "execution_count": 173,
   "id": "1ce3c6fb",
   "metadata": {},
   "outputs": [],
   "source": [
    "valor_da_prestacao = 19_184.45"
   ]
  },
  {
   "cell_type": "code",
   "execution_count": 175,
   "id": "32b0816a",
   "metadata": {},
   "outputs": [
    {
     "name": "stdout",
     "output_type": "stream",
     "text": [
      "valor_solicitado= 100000.00\n"
     ]
    }
   ],
   "source": [
    "valor_solicitado = valor_da_prestacao * fator_de_financiamento\n",
    "print(f\"{valor_solicitado=:10.2f}\")"
   ]
  },
  {
   "cell_type": "code",
   "execution_count": 17,
   "id": "16f903a5",
   "metadata": {},
   "outputs": [
    {
     "name": "stdout",
     "output_type": "stream",
     "text": [
      "i=1 saldo_devedor=  18757.52 amortizacao=   1242.48 juros=    200.00 valor_da_prestacao=   1442.48\n",
      "i=2 saldo_devedor=  17502.62 amortizacao=   1254.90 juros=    187.58 valor_da_prestacao=   1442.48\n",
      "i=3 saldo_devedor=  16235.17 amortizacao=   1267.45 juros=    175.03 valor_da_prestacao=   1442.48\n",
      "i=4 saldo_devedor=  14955.05 amortizacao=   1280.12 juros=    162.35 valor_da_prestacao=   1442.48\n",
      "i=5 saldo_devedor=  13662.13 amortizacao=   1292.93 juros=    149.55 valor_da_prestacao=   1442.48\n",
      "i=6 saldo_devedor=  12356.27 amortizacao=   1305.85 juros=    136.62 valor_da_prestacao=   1442.48\n",
      "i=7 saldo_devedor=  11037.36 amortizacao=   1318.91 juros=    123.56 valor_da_prestacao=   1442.48\n",
      "i=8 saldo_devedor=   9705.26 amortizacao=   1332.10 juros=    110.37 valor_da_prestacao=   1442.48\n",
      "i=9 saldo_devedor=   8359.83 amortizacao=   1345.42 juros=     97.05 valor_da_prestacao=   1442.48\n",
      "i=10 saldo_devedor=   7000.96 amortizacao=   1358.88 juros=     83.60 valor_da_prestacao=   1442.48\n",
      "i=11 saldo_devedor=   5628.49 amortizacao=   1372.47 juros=     70.01 valor_da_prestacao=   1442.48\n",
      "i=12 saldo_devedor=   4242.30 amortizacao=   1386.19 juros=     56.28 valor_da_prestacao=   1442.48\n",
      "i=13 saldo_devedor=   2842.25 amortizacao=   1400.05 juros=     42.42 valor_da_prestacao=   1442.48\n",
      "i=14 saldo_devedor=   1428.19 amortizacao=   1414.05 juros=     28.42 valor_da_prestacao=   1442.48\n",
      "i=15 saldo_devedor=      0.00 amortizacao=   1428.19 juros=     14.28 valor_da_prestacao=   1442.48\n"
     ]
    }
   ],
   "source": [
    "saldo_devedor = valor_solicitado\n",
    "\n",
    "tabela = defaultdict(list)\n",
    "\n",
    "for i in range(1, numero_de_prestacoes+1):\n",
    "    # juros = vfuturo(saldo_devedor, taxa_mensal, 1) - saldo_devedor\n",
    "    juros = saldo_devedor * taxa_mensal\n",
    "    amortizacao = valor_da_prestacao - juros\n",
    "    saldo_devedor -= amortizacao\n",
    "\n",
    "    tabela['prestacao'].append(i)\n",
    "    tabela['saldo_devedor'].append(saldo_devedor)\n",
    "    tabela['amortizacao'].append(amortizacao)\n",
    "    tabela['juros'].append(juros)\n",
    "    tabela['valor_prestacao'].append(valor_da_prestacao)\n",
    "    tabela['valor_presente_prestacao'].append(vpresente(valor_da_prestacao,  taxa_mensal, i))\n",
    "\n",
    "    print(f\"{i=} {saldo_devedor=:10.2f} {amortizacao=:10.2f} {juros=:10.2f} {valor_da_prestacao=:10.2f}\")"
   ]
  },
  {
   "cell_type": "code",
   "execution_count": 18,
   "id": "d39ca4ed",
   "metadata": {},
   "outputs": [
    {
     "data": {
      "text/html": [
       "<style type=\"text/css\">\n",
       "</style>\n",
       "<table id=\"T_ecc2a\">\n",
       "  <thead>\n",
       "    <tr>\n",
       "      <th class=\"blank level0\" >&nbsp;</th>\n",
       "      <th id=\"T_ecc2a_level0_col0\" class=\"col_heading level0 col0\" >prestacao</th>\n",
       "      <th id=\"T_ecc2a_level0_col1\" class=\"col_heading level0 col1\" >saldo_devedor</th>\n",
       "      <th id=\"T_ecc2a_level0_col2\" class=\"col_heading level0 col2\" >amortizacao</th>\n",
       "      <th id=\"T_ecc2a_level0_col3\" class=\"col_heading level0 col3\" >juros</th>\n",
       "      <th id=\"T_ecc2a_level0_col4\" class=\"col_heading level0 col4\" >valor_prestacao</th>\n",
       "      <th id=\"T_ecc2a_level0_col5\" class=\"col_heading level0 col5\" >valor_presente_prestacao</th>\n",
       "    </tr>\n",
       "  </thead>\n",
       "  <tbody>\n",
       "    <tr>\n",
       "      <th id=\"T_ecc2a_level0_row0\" class=\"row_heading level0 row0\" >0</th>\n",
       "      <td id=\"T_ecc2a_row0_col0\" class=\"data row0 col0\" >1.00</td>\n",
       "      <td id=\"T_ecc2a_row0_col1\" class=\"data row0 col1\" >18757.52</td>\n",
       "      <td id=\"T_ecc2a_row0_col2\" class=\"data row0 col2\" >1242.48</td>\n",
       "      <td id=\"T_ecc2a_row0_col3\" class=\"data row0 col3\" >200.00</td>\n",
       "      <td id=\"T_ecc2a_row0_col4\" class=\"data row0 col4\" >1442.48</td>\n",
       "      <td id=\"T_ecc2a_row0_col5\" class=\"data row0 col5\" >1428.19</td>\n",
       "    </tr>\n",
       "    <tr>\n",
       "      <th id=\"T_ecc2a_level0_row1\" class=\"row_heading level0 row1\" >1</th>\n",
       "      <td id=\"T_ecc2a_row1_col0\" class=\"data row1 col0\" >2.00</td>\n",
       "      <td id=\"T_ecc2a_row1_col1\" class=\"data row1 col1\" >17502.62</td>\n",
       "      <td id=\"T_ecc2a_row1_col2\" class=\"data row1 col2\" >1254.90</td>\n",
       "      <td id=\"T_ecc2a_row1_col3\" class=\"data row1 col3\" >187.58</td>\n",
       "      <td id=\"T_ecc2a_row1_col4\" class=\"data row1 col4\" >1442.48</td>\n",
       "      <td id=\"T_ecc2a_row1_col5\" class=\"data row1 col5\" >1414.05</td>\n",
       "    </tr>\n",
       "    <tr>\n",
       "      <th id=\"T_ecc2a_level0_row2\" class=\"row_heading level0 row2\" >2</th>\n",
       "      <td id=\"T_ecc2a_row2_col0\" class=\"data row2 col0\" >3.00</td>\n",
       "      <td id=\"T_ecc2a_row2_col1\" class=\"data row2 col1\" >16235.17</td>\n",
       "      <td id=\"T_ecc2a_row2_col2\" class=\"data row2 col2\" >1267.45</td>\n",
       "      <td id=\"T_ecc2a_row2_col3\" class=\"data row2 col3\" >175.03</td>\n",
       "      <td id=\"T_ecc2a_row2_col4\" class=\"data row2 col4\" >1442.48</td>\n",
       "      <td id=\"T_ecc2a_row2_col5\" class=\"data row2 col5\" >1400.05</td>\n",
       "    </tr>\n",
       "    <tr>\n",
       "      <th id=\"T_ecc2a_level0_row3\" class=\"row_heading level0 row3\" >3</th>\n",
       "      <td id=\"T_ecc2a_row3_col0\" class=\"data row3 col0\" >4.00</td>\n",
       "      <td id=\"T_ecc2a_row3_col1\" class=\"data row3 col1\" >14955.05</td>\n",
       "      <td id=\"T_ecc2a_row3_col2\" class=\"data row3 col2\" >1280.12</td>\n",
       "      <td id=\"T_ecc2a_row3_col3\" class=\"data row3 col3\" >162.35</td>\n",
       "      <td id=\"T_ecc2a_row3_col4\" class=\"data row3 col4\" >1442.48</td>\n",
       "      <td id=\"T_ecc2a_row3_col5\" class=\"data row3 col5\" >1386.19</td>\n",
       "    </tr>\n",
       "    <tr>\n",
       "      <th id=\"T_ecc2a_level0_row4\" class=\"row_heading level0 row4\" >4</th>\n",
       "      <td id=\"T_ecc2a_row4_col0\" class=\"data row4 col0\" >5.00</td>\n",
       "      <td id=\"T_ecc2a_row4_col1\" class=\"data row4 col1\" >13662.13</td>\n",
       "      <td id=\"T_ecc2a_row4_col2\" class=\"data row4 col2\" >1292.93</td>\n",
       "      <td id=\"T_ecc2a_row4_col3\" class=\"data row4 col3\" >149.55</td>\n",
       "      <td id=\"T_ecc2a_row4_col4\" class=\"data row4 col4\" >1442.48</td>\n",
       "      <td id=\"T_ecc2a_row4_col5\" class=\"data row4 col5\" >1372.47</td>\n",
       "    </tr>\n",
       "    <tr>\n",
       "      <th id=\"T_ecc2a_level0_row5\" class=\"row_heading level0 row5\" >5</th>\n",
       "      <td id=\"T_ecc2a_row5_col0\" class=\"data row5 col0\" >6.00</td>\n",
       "      <td id=\"T_ecc2a_row5_col1\" class=\"data row5 col1\" >12356.27</td>\n",
       "      <td id=\"T_ecc2a_row5_col2\" class=\"data row5 col2\" >1305.85</td>\n",
       "      <td id=\"T_ecc2a_row5_col3\" class=\"data row5 col3\" >136.62</td>\n",
       "      <td id=\"T_ecc2a_row5_col4\" class=\"data row5 col4\" >1442.48</td>\n",
       "      <td id=\"T_ecc2a_row5_col5\" class=\"data row5 col5\" >1358.88</td>\n",
       "    </tr>\n",
       "    <tr>\n",
       "      <th id=\"T_ecc2a_level0_row6\" class=\"row_heading level0 row6\" >6</th>\n",
       "      <td id=\"T_ecc2a_row6_col0\" class=\"data row6 col0\" >7.00</td>\n",
       "      <td id=\"T_ecc2a_row6_col1\" class=\"data row6 col1\" >11037.36</td>\n",
       "      <td id=\"T_ecc2a_row6_col2\" class=\"data row6 col2\" >1318.91</td>\n",
       "      <td id=\"T_ecc2a_row6_col3\" class=\"data row6 col3\" >123.56</td>\n",
       "      <td id=\"T_ecc2a_row6_col4\" class=\"data row6 col4\" >1442.48</td>\n",
       "      <td id=\"T_ecc2a_row6_col5\" class=\"data row6 col5\" >1345.42</td>\n",
       "    </tr>\n",
       "    <tr>\n",
       "      <th id=\"T_ecc2a_level0_row7\" class=\"row_heading level0 row7\" >7</th>\n",
       "      <td id=\"T_ecc2a_row7_col0\" class=\"data row7 col0\" >8.00</td>\n",
       "      <td id=\"T_ecc2a_row7_col1\" class=\"data row7 col1\" >9705.26</td>\n",
       "      <td id=\"T_ecc2a_row7_col2\" class=\"data row7 col2\" >1332.10</td>\n",
       "      <td id=\"T_ecc2a_row7_col3\" class=\"data row7 col3\" >110.37</td>\n",
       "      <td id=\"T_ecc2a_row7_col4\" class=\"data row7 col4\" >1442.48</td>\n",
       "      <td id=\"T_ecc2a_row7_col5\" class=\"data row7 col5\" >1332.10</td>\n",
       "    </tr>\n",
       "    <tr>\n",
       "      <th id=\"T_ecc2a_level0_row8\" class=\"row_heading level0 row8\" >8</th>\n",
       "      <td id=\"T_ecc2a_row8_col0\" class=\"data row8 col0\" >9.00</td>\n",
       "      <td id=\"T_ecc2a_row8_col1\" class=\"data row8 col1\" >8359.83</td>\n",
       "      <td id=\"T_ecc2a_row8_col2\" class=\"data row8 col2\" >1345.42</td>\n",
       "      <td id=\"T_ecc2a_row8_col3\" class=\"data row8 col3\" >97.05</td>\n",
       "      <td id=\"T_ecc2a_row8_col4\" class=\"data row8 col4\" >1442.48</td>\n",
       "      <td id=\"T_ecc2a_row8_col5\" class=\"data row8 col5\" >1318.91</td>\n",
       "    </tr>\n",
       "    <tr>\n",
       "      <th id=\"T_ecc2a_level0_row9\" class=\"row_heading level0 row9\" >9</th>\n",
       "      <td id=\"T_ecc2a_row9_col0\" class=\"data row9 col0\" >10.00</td>\n",
       "      <td id=\"T_ecc2a_row9_col1\" class=\"data row9 col1\" >7000.96</td>\n",
       "      <td id=\"T_ecc2a_row9_col2\" class=\"data row9 col2\" >1358.88</td>\n",
       "      <td id=\"T_ecc2a_row9_col3\" class=\"data row9 col3\" >83.60</td>\n",
       "      <td id=\"T_ecc2a_row9_col4\" class=\"data row9 col4\" >1442.48</td>\n",
       "      <td id=\"T_ecc2a_row9_col5\" class=\"data row9 col5\" >1305.85</td>\n",
       "    </tr>\n",
       "    <tr>\n",
       "      <th id=\"T_ecc2a_level0_row10\" class=\"row_heading level0 row10\" >10</th>\n",
       "      <td id=\"T_ecc2a_row10_col0\" class=\"data row10 col0\" >11.00</td>\n",
       "      <td id=\"T_ecc2a_row10_col1\" class=\"data row10 col1\" >5628.49</td>\n",
       "      <td id=\"T_ecc2a_row10_col2\" class=\"data row10 col2\" >1372.47</td>\n",
       "      <td id=\"T_ecc2a_row10_col3\" class=\"data row10 col3\" >70.01</td>\n",
       "      <td id=\"T_ecc2a_row10_col4\" class=\"data row10 col4\" >1442.48</td>\n",
       "      <td id=\"T_ecc2a_row10_col5\" class=\"data row10 col5\" >1292.93</td>\n",
       "    </tr>\n",
       "    <tr>\n",
       "      <th id=\"T_ecc2a_level0_row11\" class=\"row_heading level0 row11\" >11</th>\n",
       "      <td id=\"T_ecc2a_row11_col0\" class=\"data row11 col0\" >12.00</td>\n",
       "      <td id=\"T_ecc2a_row11_col1\" class=\"data row11 col1\" >4242.30</td>\n",
       "      <td id=\"T_ecc2a_row11_col2\" class=\"data row11 col2\" >1386.19</td>\n",
       "      <td id=\"T_ecc2a_row11_col3\" class=\"data row11 col3\" >56.28</td>\n",
       "      <td id=\"T_ecc2a_row11_col4\" class=\"data row11 col4\" >1442.48</td>\n",
       "      <td id=\"T_ecc2a_row11_col5\" class=\"data row11 col5\" >1280.12</td>\n",
       "    </tr>\n",
       "    <tr>\n",
       "      <th id=\"T_ecc2a_level0_row12\" class=\"row_heading level0 row12\" >12</th>\n",
       "      <td id=\"T_ecc2a_row12_col0\" class=\"data row12 col0\" >13.00</td>\n",
       "      <td id=\"T_ecc2a_row12_col1\" class=\"data row12 col1\" >2842.25</td>\n",
       "      <td id=\"T_ecc2a_row12_col2\" class=\"data row12 col2\" >1400.05</td>\n",
       "      <td id=\"T_ecc2a_row12_col3\" class=\"data row12 col3\" >42.42</td>\n",
       "      <td id=\"T_ecc2a_row12_col4\" class=\"data row12 col4\" >1442.48</td>\n",
       "      <td id=\"T_ecc2a_row12_col5\" class=\"data row12 col5\" >1267.45</td>\n",
       "    </tr>\n",
       "    <tr>\n",
       "      <th id=\"T_ecc2a_level0_row13\" class=\"row_heading level0 row13\" >13</th>\n",
       "      <td id=\"T_ecc2a_row13_col0\" class=\"data row13 col0\" >14.00</td>\n",
       "      <td id=\"T_ecc2a_row13_col1\" class=\"data row13 col1\" >1428.19</td>\n",
       "      <td id=\"T_ecc2a_row13_col2\" class=\"data row13 col2\" >1414.05</td>\n",
       "      <td id=\"T_ecc2a_row13_col3\" class=\"data row13 col3\" >28.42</td>\n",
       "      <td id=\"T_ecc2a_row13_col4\" class=\"data row13 col4\" >1442.48</td>\n",
       "      <td id=\"T_ecc2a_row13_col5\" class=\"data row13 col5\" >1254.90</td>\n",
       "    </tr>\n",
       "    <tr>\n",
       "      <th id=\"T_ecc2a_level0_row14\" class=\"row_heading level0 row14\" >14</th>\n",
       "      <td id=\"T_ecc2a_row14_col0\" class=\"data row14 col0\" >15.00</td>\n",
       "      <td id=\"T_ecc2a_row14_col1\" class=\"data row14 col1\" >0.00</td>\n",
       "      <td id=\"T_ecc2a_row14_col2\" class=\"data row14 col2\" >1428.19</td>\n",
       "      <td id=\"T_ecc2a_row14_col3\" class=\"data row14 col3\" >14.28</td>\n",
       "      <td id=\"T_ecc2a_row14_col4\" class=\"data row14 col4\" >1442.48</td>\n",
       "      <td id=\"T_ecc2a_row14_col5\" class=\"data row14 col5\" >1242.48</td>\n",
       "    </tr>\n",
       "  </tbody>\n",
       "</table>\n"
      ],
      "text/plain": [
       "<pandas.io.formats.style.Styler at 0x77391658f950>"
      ]
     },
     "execution_count": 18,
     "metadata": {},
     "output_type": "execute_result"
    }
   ],
   "source": [
    "tabela_valor_prestacao_dado = pd.DataFrame(tabela)\n",
    "tabela_valor_prestacao_dado.style.format('{:.2f}')"
   ]
  },
  {
   "cell_type": "markdown",
   "id": "887a0327",
   "metadata": {},
   "source": [
    "# Calcular o fator usando a tabela\n",
    "\n",
    "A soma do valor presente de recebiveis unitarios gera o fator financiado"
   ]
  },
  {
   "cell_type": "code",
   "execution_count": 19,
   "id": "13455be6",
   "metadata": {},
   "outputs": [
    {
     "data": {
      "text/plain": [
       "13.8650525171621"
      ]
     },
     "execution_count": 19,
     "metadata": {},
     "output_type": "execute_result"
    }
   ],
   "source": [
    "valor_solicitado_recebivel_unitario = sum(vpresente(1, taxa_mensal, i) for i in range(1, numero_de_prestacoes+1))\n",
    "valor_solicitado_recebivel_unitario"
   ]
  },
  {
   "cell_type": "code",
   "execution_count": 20,
   "id": "a4635e60",
   "metadata": {},
   "outputs": [
    {
     "data": {
      "text/plain": [
       "(13.865052517162113, 13.8650525171621)"
      ]
     },
     "execution_count": 20,
     "metadata": {},
     "output_type": "execute_result"
    }
   ],
   "source": [
    "fator_de_financiamento, valor_solicitado_recebivel_unitario"
   ]
  },
  {
   "cell_type": "code",
   "execution_count": null,
   "id": "d516a5f9",
   "metadata": {},
   "outputs": [],
   "source": []
  }
 ],
 "metadata": {
  "kernelspec": {
   "display_name": "tabela-price",
   "language": "python",
   "name": "python3"
  },
  "language_info": {
   "codemirror_mode": {
    "name": "ipython",
    "version": 3
   },
   "file_extension": ".py",
   "mimetype": "text/x-python",
   "name": "python",
   "nbconvert_exporter": "python",
   "pygments_lexer": "ipython3",
   "version": "3.12.4"
  }
 },
 "nbformat": 4,
 "nbformat_minor": 5
}
