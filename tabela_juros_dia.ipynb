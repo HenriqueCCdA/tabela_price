{
 "cells": [
  {
   "cell_type": "code",
   "execution_count": 16,
   "id": "b16d95c6",
   "metadata": {},
   "outputs": [],
   "source": [
    "from collections import defaultdict\n",
    "import pandas as pd\n",
    "from datetime import date\n",
    "from dateutil.relativedelta import relativedelta\n",
    "\n",
    "DIAS_MES_PADRAO = 30\n",
    "\n",
    "def vfuturo(vp, i, n):\n",
    "    return vp*(1+i)**n\n",
    "\n",
    "def vpresente(vf, i, n):\n",
    "    return vf/(1+i)**n\n",
    "\n",
    "def caculo_fator_de_financiamento(i, n):\n",
    "    return (1 - (1 + i)**(-n)) / i\n",
    "\n",
    "def taxa_mensal_para_dia(i):\n",
    "    return (1 + i) ** (1/DIAS_MES_PADRAO) - 1"
   ]
  },
  {
   "cell_type": "markdown",
   "id": "c54a6ad4",
   "metadata": {},
   "source": [
    "# Relação prestação x valor solicitado\n",
    "\n",
    "$$ PV = PMT * FPV(i,n) $$\n",
    "\n",
    "com:\n",
    " \n",
    "$$ FPV(i, n) = \\frac{1 - (1 + i)^{-n}}{i}$$\n",
    "\n",
    "Onde:\n",
    "\n",
    "- PV: Valor solicitado\n",
    "- PMT: Valor da prestação\n",
    "- n: Número de prestações\n",
    "- i: taxa de jutos\n"
   ]
  },
  {
   "cell_type": "markdown",
   "id": "558a215f",
   "metadata": {},
   "source": [
    "## Informando o valor solicitado "
   ]
  },
  {
   "cell_type": "code",
   "execution_count": 115,
   "id": "704fe724",
   "metadata": {},
   "outputs": [],
   "source": [
    "taxa_mensal = 0.01\n",
    "valor_solicitado = 20_000\n",
    "numero_de_prestacoes = 15\n",
    "data_liberacao = date(2021, 1, 5)\n",
    "dia_vencimento_parcela = 5"
   ]
  },
  {
   "cell_type": "code",
   "execution_count": 116,
   "id": "3532dc41",
   "metadata": {},
   "outputs": [
    {
     "data": {
      "text/plain": [
       "0.00033173270623421125"
      ]
     },
     "execution_count": 116,
     "metadata": {},
     "output_type": "execute_result"
    }
   ],
   "source": [
    "taxa_dia = taxa_mensal_para_dia(taxa_mensal)\n",
    "taxa_dia"
   ]
  },
  {
   "cell_type": "code",
   "execution_count": 117,
   "id": "7788ec7a",
   "metadata": {},
   "outputs": [
    {
     "data": {
      "text/plain": [
       "[datetime.date(2021, 2, 5),\n",
       " datetime.date(2021, 3, 5),\n",
       " datetime.date(2021, 4, 5),\n",
       " datetime.date(2021, 5, 5),\n",
       " datetime.date(2021, 6, 5),\n",
       " datetime.date(2021, 7, 5),\n",
       " datetime.date(2021, 8, 5),\n",
       " datetime.date(2021, 9, 5),\n",
       " datetime.date(2021, 10, 5),\n",
       " datetime.date(2021, 11, 5),\n",
       " datetime.date(2021, 12, 5),\n",
       " datetime.date(2022, 1, 5),\n",
       " datetime.date(2022, 2, 5),\n",
       " datetime.date(2022, 3, 5),\n",
       " datetime.date(2022, 4, 5)]"
      ]
     },
     "execution_count": 117,
     "metadata": {},
     "output_type": "execute_result"
    }
   ],
   "source": [
    "data_vencimento_parcelas = [\n",
    "    (data_liberacao + relativedelta(months=prestacao)).replace(day=dia_vencimento_parcela)\n",
    "    for prestacao in range(1, numero_de_prestacoes+1)\n",
    "]\n",
    "\n",
    "data_vencimento_parcelas"
   ]
  },
  {
   "cell_type": "code",
   "execution_count": 118,
   "id": "c3c87ec8",
   "metadata": {},
   "outputs": [
    {
     "data": {
      "text/plain": [
       "13.853788441846143"
      ]
     },
     "execution_count": 118,
     "metadata": {},
     "output_type": "execute_result"
    }
   ],
   "source": [
    "fator_de_financiamento = 0\n",
    "for parcela in range(1, numero_de_prestacoes+1):\n",
    "    dias = (data_vencimento_parcelas[parcela - 1] - data_liberacao).days\n",
    "    fator_de_financiamento += vpresente(1, taxa_dia, dias)\n",
    "\n",
    "fator_de_financiamento"
   ]
  },
  {
   "cell_type": "code",
   "execution_count": 119,
   "id": "9fbf8cb1",
   "metadata": {},
   "outputs": [
    {
     "data": {
      "text/plain": [
       "455"
      ]
     },
     "execution_count": 119,
     "metadata": {},
     "output_type": "execute_result"
    }
   ],
   "source": [
    "total_dias = (data_vencimento_parcelas[-1] - data_liberacao).days\n",
    "total_dias"
   ]
  },
  {
   "cell_type": "code",
   "execution_count": 120,
   "id": "29dd3d74",
   "metadata": {},
   "outputs": [
    {
     "name": "stdout",
     "output_type": "stream",
     "text": [
      "Fator de fianciamento usando meses 13.865052517162113\n",
      "Fator de fianciamento usando dias 422.26102754397164\n",
      "Fator de fianciamento usando recebivel unitario com juros diarios 13.853788441846143\n"
     ]
    }
   ],
   "source": [
    "fator_de_financiamento_meses = caculo_fator_de_financiamento(taxa_mensal, numero_de_prestacoes)\n",
    "fator_de_financiamento_dias = caculo_fator_de_financiamento(taxa_dia, total_dias)\n",
    "\n",
    "print(f\"Fator de fianciamento usando meses {fator_de_financiamento_meses}\")\n",
    "print(f\"Fator de fianciamento usando dias {fator_de_financiamento_dias}\")\n",
    "print(f\"Fator de fianciamento usando recebivel unitario com juros diarios {fator_de_financiamento}\")"
   ]
  },
  {
   "cell_type": "code",
   "execution_count": 121,
   "id": "0ae0ce84",
   "metadata": {},
   "outputs": [
    {
     "name": "stdout",
     "output_type": "stream",
     "text": [
      "valor_da_prestacao=   1443.65\n"
     ]
    }
   ],
   "source": [
    "valor_da_prestacao = valor_solicitado / fator_de_financiamento\n",
    "print(f\"{valor_da_prestacao=:10.2f}\")"
   ]
  },
  {
   "cell_type": "code",
   "execution_count": 125,
   "id": "e2ab089d",
   "metadata": {},
   "outputs": [],
   "source": [
    "saldo_devedor = valor_solicitado\n",
    "\n",
    "tabela = defaultdict(list)\n",
    "\n",
    "for parcela in range(1, numero_de_prestacoes+1):\n",
    "\n",
    "    dia_vencimento_parcela_atual = data_vencimento_parcelas[parcela - 1]\n",
    "    if parcela == 1:\n",
    "        dias_parcela = (dia_vencimento_parcela_atual - data_liberacao).days\n",
    "    else:\n",
    "        dia_vencimento_parcela_anterior = data_vencimento_parcelas[parcela - 2]\n",
    "        dias_parcela = (dia_vencimento_parcela_atual - dia_vencimento_parcela_anterior).days\n",
    "    dias_acumulados = (dia_vencimento_parcela_atual - data_liberacao).days\n",
    "\n",
    "    juros = vfuturo(saldo_devedor, taxa_dia, dias_parcela) - saldo_devedor\n",
    "    amortizacao = valor_da_prestacao - juros # principal\n",
    "    saldo_devedor -= amortizacao\n",
    "\n",
    "    tabela['parcela'].append(parcela)\n",
    "    tabela['data_vencimento'].append(dia_vencimento_parcela_atual)\n",
    "    tabela['dias_parcela'].append(dias_parcela)\n",
    "    tabela['dias_acumulados'].append(dias_acumulados)\n",
    "    tabela['saldo_devedor'].append(saldo_devedor)\n",
    "    tabela['amortizacao'].append(amortizacao)\n",
    "    tabela['juros'].append(juros)\n",
    "    tabela['valor_prestacao'].append(valor_da_prestacao)\n",
    "    tabela['valor_presente_prestacao'].append(vpresente(valor_da_prestacao, taxa_dia, dias_acumulados))\n",
    "\n",
    "    # print(f\"{parcela=} {saldo_devedor=:10.2f} {amortizacao=:10.2f} {juros=:10.2f} {valor_da_prestacao=:10.2f}\")\n"
   ]
  },
  {
   "cell_type": "code",
   "execution_count": 133,
   "id": "c99e5137",
   "metadata": {},
   "outputs": [
    {
     "data": {
      "text/html": [
       "<style type=\"text/css\">\n",
       "</style>\n",
       "<table id=\"T_3b59a\">\n",
       "  <thead>\n",
       "    <tr>\n",
       "      <th class=\"blank level0\" >&nbsp;</th>\n",
       "      <th id=\"T_3b59a_level0_col0\" class=\"col_heading level0 col0\" >parcela</th>\n",
       "      <th id=\"T_3b59a_level0_col1\" class=\"col_heading level0 col1\" >data_vencimento</th>\n",
       "      <th id=\"T_3b59a_level0_col2\" class=\"col_heading level0 col2\" >dias_parcela</th>\n",
       "      <th id=\"T_3b59a_level0_col3\" class=\"col_heading level0 col3\" >dias_acumulados</th>\n",
       "      <th id=\"T_3b59a_level0_col4\" class=\"col_heading level0 col4\" >saldo_devedor</th>\n",
       "      <th id=\"T_3b59a_level0_col5\" class=\"col_heading level0 col5\" >amortizacao</th>\n",
       "      <th id=\"T_3b59a_level0_col6\" class=\"col_heading level0 col6\" >juros</th>\n",
       "      <th id=\"T_3b59a_level0_col7\" class=\"col_heading level0 col7\" >valor_prestacao</th>\n",
       "      <th id=\"T_3b59a_level0_col8\" class=\"col_heading level0 col8\" >valor_presente_prestacao</th>\n",
       "    </tr>\n",
       "  </thead>\n",
       "  <tbody>\n",
       "    <tr>\n",
       "      <th id=\"T_3b59a_level0_row0\" class=\"row_heading level0 row0\" >0</th>\n",
       "      <td id=\"T_3b59a_row0_col0\" class=\"data row0 col0\" >1</td>\n",
       "      <td id=\"T_3b59a_row0_col1\" class=\"data row0 col1\" >2021-02-05</td>\n",
       "      <td id=\"T_3b59a_row0_col2\" class=\"data row0 col2\" >31</td>\n",
       "      <td id=\"T_3b59a_row0_col3\" class=\"data row0 col3\" >31</td>\n",
       "      <td id=\"T_3b59a_row0_col4\" class=\"data row0 col4\" >18763.05</td>\n",
       "      <td id=\"T_3b59a_row0_col5\" class=\"data row0 col5\" >1236.95</td>\n",
       "      <td id=\"T_3b59a_row0_col6\" class=\"data row0 col6\" >206.70</td>\n",
       "      <td id=\"T_3b59a_row0_col7\" class=\"data row0 col7\" >1443.65</td>\n",
       "      <td id=\"T_3b59a_row0_col8\" class=\"data row0 col8\" >1428.88</td>\n",
       "    </tr>\n",
       "    <tr>\n",
       "      <th id=\"T_3b59a_level0_row1\" class=\"row_heading level0 row1\" >1</th>\n",
       "      <td id=\"T_3b59a_row1_col0\" class=\"data row1 col0\" >2</td>\n",
       "      <td id=\"T_3b59a_row1_col1\" class=\"data row1 col1\" >2021-03-05</td>\n",
       "      <td id=\"T_3b59a_row1_col2\" class=\"data row1 col2\" >28</td>\n",
       "      <td id=\"T_3b59a_row1_col3\" class=\"data row1 col3\" >59</td>\n",
       "      <td id=\"T_3b59a_row1_col4\" class=\"data row1 col4\" >17494.47</td>\n",
       "      <td id=\"T_3b59a_row1_col5\" class=\"data row1 col5\" >1268.58</td>\n",
       "      <td id=\"T_3b59a_row1_col6\" class=\"data row1 col6\" >175.06</td>\n",
       "      <td id=\"T_3b59a_row1_col7\" class=\"data row1 col7\" >1443.65</td>\n",
       "      <td id=\"T_3b59a_row1_col8\" class=\"data row1 col8\" >1415.67</td>\n",
       "    </tr>\n",
       "    <tr>\n",
       "      <th id=\"T_3b59a_level0_row2\" class=\"row_heading level0 row2\" >2</th>\n",
       "      <td id=\"T_3b59a_row2_col0\" class=\"data row2 col0\" >3</td>\n",
       "      <td id=\"T_3b59a_row2_col1\" class=\"data row2 col1\" >2021-04-05</td>\n",
       "      <td id=\"T_3b59a_row2_col2\" class=\"data row2 col2\" >31</td>\n",
       "      <td id=\"T_3b59a_row2_col3\" class=\"data row2 col3\" >90</td>\n",
       "      <td id=\"T_3b59a_row2_col4\" class=\"data row2 col4\" >16231.63</td>\n",
       "      <td id=\"T_3b59a_row2_col5\" class=\"data row2 col5\" >1262.84</td>\n",
       "      <td id=\"T_3b59a_row2_col6\" class=\"data row2 col6\" >180.81</td>\n",
       "      <td id=\"T_3b59a_row2_col7\" class=\"data row2 col7\" >1443.65</td>\n",
       "      <td id=\"T_3b59a_row2_col8\" class=\"data row2 col8\" >1401.19</td>\n",
       "    </tr>\n",
       "    <tr>\n",
       "      <th id=\"T_3b59a_level0_row3\" class=\"row_heading level0 row3\" >3</th>\n",
       "      <td id=\"T_3b59a_row3_col0\" class=\"data row3 col0\" >4</td>\n",
       "      <td id=\"T_3b59a_row3_col1\" class=\"data row3 col1\" >2021-05-05</td>\n",
       "      <td id=\"T_3b59a_row3_col2\" class=\"data row3 col2\" >30</td>\n",
       "      <td id=\"T_3b59a_row3_col3\" class=\"data row3 col3\" >120</td>\n",
       "      <td id=\"T_3b59a_row3_col4\" class=\"data row3 col4\" >14950.29</td>\n",
       "      <td id=\"T_3b59a_row3_col5\" class=\"data row3 col5\" >1281.33</td>\n",
       "      <td id=\"T_3b59a_row3_col6\" class=\"data row3 col6\" >162.32</td>\n",
       "      <td id=\"T_3b59a_row3_col7\" class=\"data row3 col7\" >1443.65</td>\n",
       "      <td id=\"T_3b59a_row3_col8\" class=\"data row3 col8\" >1387.32</td>\n",
       "    </tr>\n",
       "    <tr>\n",
       "      <th id=\"T_3b59a_level0_row4\" class=\"row_heading level0 row4\" >4</th>\n",
       "      <td id=\"T_3b59a_row4_col0\" class=\"data row4 col0\" >5</td>\n",
       "      <td id=\"T_3b59a_row4_col1\" class=\"data row4 col1\" >2021-06-05</td>\n",
       "      <td id=\"T_3b59a_row4_col2\" class=\"data row4 col2\" >31</td>\n",
       "      <td id=\"T_3b59a_row4_col3\" class=\"data row4 col3\" >151</td>\n",
       "      <td id=\"T_3b59a_row4_col4\" class=\"data row4 col4\" >13661.16</td>\n",
       "      <td id=\"T_3b59a_row4_col5\" class=\"data row4 col5\" >1289.14</td>\n",
       "      <td id=\"T_3b59a_row4_col6\" class=\"data row4 col6\" >154.51</td>\n",
       "      <td id=\"T_3b59a_row4_col7\" class=\"data row4 col7\" >1443.65</td>\n",
       "      <td id=\"T_3b59a_row4_col8\" class=\"data row4 col8\" >1373.13</td>\n",
       "    </tr>\n",
       "    <tr>\n",
       "      <th id=\"T_3b59a_level0_row5\" class=\"row_heading level0 row5\" >5</th>\n",
       "      <td id=\"T_3b59a_row5_col0\" class=\"data row5 col0\" >6</td>\n",
       "      <td id=\"T_3b59a_row5_col1\" class=\"data row5 col1\" >2021-07-05</td>\n",
       "      <td id=\"T_3b59a_row5_col2\" class=\"data row5 col2\" >30</td>\n",
       "      <td id=\"T_3b59a_row5_col3\" class=\"data row5 col3\" >181</td>\n",
       "      <td id=\"T_3b59a_row5_col4\" class=\"data row5 col4\" >12354.12</td>\n",
       "      <td id=\"T_3b59a_row5_col5\" class=\"data row5 col5\" >1307.04</td>\n",
       "      <td id=\"T_3b59a_row5_col6\" class=\"data row5 col6\" >136.61</td>\n",
       "      <td id=\"T_3b59a_row5_col7\" class=\"data row5 col7\" >1443.65</td>\n",
       "      <td id=\"T_3b59a_row5_col8\" class=\"data row5 col8\" >1359.53</td>\n",
       "    </tr>\n",
       "    <tr>\n",
       "      <th id=\"T_3b59a_level0_row6\" class=\"row_heading level0 row6\" >6</th>\n",
       "      <td id=\"T_3b59a_row6_col0\" class=\"data row6 col0\" >7</td>\n",
       "      <td id=\"T_3b59a_row6_col1\" class=\"data row6 col1\" >2021-08-05</td>\n",
       "      <td id=\"T_3b59a_row6_col2\" class=\"data row6 col2\" >31</td>\n",
       "      <td id=\"T_3b59a_row6_col3\" class=\"data row6 col3\" >212</td>\n",
       "      <td id=\"T_3b59a_row6_col4\" class=\"data row6 col4\" >11038.15</td>\n",
       "      <td id=\"T_3b59a_row6_col5\" class=\"data row6 col5\" >1315.97</td>\n",
       "      <td id=\"T_3b59a_row6_col6\" class=\"data row6 col6\" >127.68</td>\n",
       "      <td id=\"T_3b59a_row6_col7\" class=\"data row6 col7\" >1443.65</td>\n",
       "      <td id=\"T_3b59a_row6_col8\" class=\"data row6 col8\" >1345.62</td>\n",
       "    </tr>\n",
       "    <tr>\n",
       "      <th id=\"T_3b59a_level0_row7\" class=\"row_heading level0 row7\" >7</th>\n",
       "      <td id=\"T_3b59a_row7_col0\" class=\"data row7 col0\" >8</td>\n",
       "      <td id=\"T_3b59a_row7_col1\" class=\"data row7 col1\" >2021-09-05</td>\n",
       "      <td id=\"T_3b59a_row7_col2\" class=\"data row7 col2\" >31</td>\n",
       "      <td id=\"T_3b59a_row7_col3\" class=\"data row7 col3\" >243</td>\n",
       "      <td id=\"T_3b59a_row7_col4\" class=\"data row7 col4\" >9708.58</td>\n",
       "      <td id=\"T_3b59a_row7_col5\" class=\"data row7 col5\" >1329.57</td>\n",
       "      <td id=\"T_3b59a_row7_col6\" class=\"data row7 col6\" >114.08</td>\n",
       "      <td id=\"T_3b59a_row7_col7\" class=\"data row7 col7\" >1443.65</td>\n",
       "      <td id=\"T_3b59a_row7_col8\" class=\"data row7 col8\" >1331.86</td>\n",
       "    </tr>\n",
       "    <tr>\n",
       "      <th id=\"T_3b59a_level0_row8\" class=\"row_heading level0 row8\" >8</th>\n",
       "      <td id=\"T_3b59a_row8_col0\" class=\"data row8 col0\" >9</td>\n",
       "      <td id=\"T_3b59a_row8_col1\" class=\"data row8 col1\" >2021-10-05</td>\n",
       "      <td id=\"T_3b59a_row8_col2\" class=\"data row8 col2\" >30</td>\n",
       "      <td id=\"T_3b59a_row8_col3\" class=\"data row8 col3\" >273</td>\n",
       "      <td id=\"T_3b59a_row8_col4\" class=\"data row8 col4\" >8362.02</td>\n",
       "      <td id=\"T_3b59a_row8_col5\" class=\"data row8 col5\" >1346.56</td>\n",
       "      <td id=\"T_3b59a_row8_col6\" class=\"data row8 col6\" >97.09</td>\n",
       "      <td id=\"T_3b59a_row8_col7\" class=\"data row8 col7\" >1443.65</td>\n",
       "      <td id=\"T_3b59a_row8_col8\" class=\"data row8 col8\" >1318.67</td>\n",
       "    </tr>\n",
       "    <tr>\n",
       "      <th id=\"T_3b59a_level0_row9\" class=\"row_heading level0 row9\" >9</th>\n",
       "      <td id=\"T_3b59a_row9_col0\" class=\"data row9 col0\" >10</td>\n",
       "      <td id=\"T_3b59a_row9_col1\" class=\"data row9 col1\" >2021-11-05</td>\n",
       "      <td id=\"T_3b59a_row9_col2\" class=\"data row9 col2\" >31</td>\n",
       "      <td id=\"T_3b59a_row9_col3\" class=\"data row9 col3\" >304</td>\n",
       "      <td id=\"T_3b59a_row9_col4\" class=\"data row9 col4\" >7004.79</td>\n",
       "      <td id=\"T_3b59a_row9_col5\" class=\"data row9 col5\" >1357.23</td>\n",
       "      <td id=\"T_3b59a_row9_col6\" class=\"data row9 col6\" >86.42</td>\n",
       "      <td id=\"T_3b59a_row9_col7\" class=\"data row9 col7\" >1443.65</td>\n",
       "      <td id=\"T_3b59a_row9_col8\" class=\"data row9 col8\" >1305.18</td>\n",
       "    </tr>\n",
       "    <tr>\n",
       "      <th id=\"T_3b59a_level0_row10\" class=\"row_heading level0 row10\" >10</th>\n",
       "      <td id=\"T_3b59a_row10_col0\" class=\"data row10 col0\" >11</td>\n",
       "      <td id=\"T_3b59a_row10_col1\" class=\"data row10 col1\" >2021-12-05</td>\n",
       "      <td id=\"T_3b59a_row10_col2\" class=\"data row10 col2\" >30</td>\n",
       "      <td id=\"T_3b59a_row10_col3\" class=\"data row10 col3\" >334</td>\n",
       "      <td id=\"T_3b59a_row10_col4\" class=\"data row10 col4\" >5631.19</td>\n",
       "      <td id=\"T_3b59a_row10_col5\" class=\"data row10 col5\" >1373.60</td>\n",
       "      <td id=\"T_3b59a_row10_col6\" class=\"data row10 col6\" >70.05</td>\n",
       "      <td id=\"T_3b59a_row10_col7\" class=\"data row10 col7\" >1443.65</td>\n",
       "      <td id=\"T_3b59a_row10_col8\" class=\"data row10 col8\" >1292.26</td>\n",
       "    </tr>\n",
       "    <tr>\n",
       "      <th id=\"T_3b59a_level0_row11\" class=\"row_heading level0 row11\" >11</th>\n",
       "      <td id=\"T_3b59a_row11_col0\" class=\"data row11 col0\" >12</td>\n",
       "      <td id=\"T_3b59a_row11_col1\" class=\"data row11 col1\" >2022-01-05</td>\n",
       "      <td id=\"T_3b59a_row11_col2\" class=\"data row11 col2\" >31</td>\n",
       "      <td id=\"T_3b59a_row11_col3\" class=\"data row11 col3\" >365</td>\n",
       "      <td id=\"T_3b59a_row11_col4\" class=\"data row11 col4\" >4245.74</td>\n",
       "      <td id=\"T_3b59a_row11_col5\" class=\"data row11 col5\" >1385.45</td>\n",
       "      <td id=\"T_3b59a_row11_col6\" class=\"data row11 col6\" >58.20</td>\n",
       "      <td id=\"T_3b59a_row11_col7\" class=\"data row11 col7\" >1443.65</td>\n",
       "      <td id=\"T_3b59a_row11_col8\" class=\"data row11 col8\" >1279.04</td>\n",
       "    </tr>\n",
       "    <tr>\n",
       "      <th id=\"T_3b59a_level0_row12\" class=\"row_heading level0 row12\" >12</th>\n",
       "      <td id=\"T_3b59a_row12_col0\" class=\"data row12 col0\" >13</td>\n",
       "      <td id=\"T_3b59a_row12_col1\" class=\"data row12 col1\" >2022-02-05</td>\n",
       "      <td id=\"T_3b59a_row12_col2\" class=\"data row12 col2\" >31</td>\n",
       "      <td id=\"T_3b59a_row12_col3\" class=\"data row12 col3\" >396</td>\n",
       "      <td id=\"T_3b59a_row12_col4\" class=\"data row12 col4\" >2845.98</td>\n",
       "      <td id=\"T_3b59a_row12_col5\" class=\"data row12 col5\" >1399.77</td>\n",
       "      <td id=\"T_3b59a_row12_col6\" class=\"data row12 col6\" >43.88</td>\n",
       "      <td id=\"T_3b59a_row12_col7\" class=\"data row12 col7\" >1443.65</td>\n",
       "      <td id=\"T_3b59a_row12_col8\" class=\"data row12 col8\" >1265.96</td>\n",
       "    </tr>\n",
       "    <tr>\n",
       "      <th id=\"T_3b59a_level0_row13\" class=\"row_heading level0 row13\" >13</th>\n",
       "      <td id=\"T_3b59a_row13_col0\" class=\"data row13 col0\" >14</td>\n",
       "      <td id=\"T_3b59a_row13_col1\" class=\"data row13 col1\" >2022-03-05</td>\n",
       "      <td id=\"T_3b59a_row13_col2\" class=\"data row13 col2\" >28</td>\n",
       "      <td id=\"T_3b59a_row13_col3\" class=\"data row13 col3\" >424</td>\n",
       "      <td id=\"T_3b59a_row13_col4\" class=\"data row13 col4\" >1428.88</td>\n",
       "      <td id=\"T_3b59a_row13_col5\" class=\"data row13 col5\" >1417.09</td>\n",
       "      <td id=\"T_3b59a_row13_col6\" class=\"data row13 col6\" >26.55</td>\n",
       "      <td id=\"T_3b59a_row13_col7\" class=\"data row13 col7\" >1443.65</td>\n",
       "      <td id=\"T_3b59a_row13_col8\" class=\"data row13 col8\" >1254.26</td>\n",
       "    </tr>\n",
       "    <tr>\n",
       "      <th id=\"T_3b59a_level0_row14\" class=\"row_heading level0 row14\" >14</th>\n",
       "      <td id=\"T_3b59a_row14_col0\" class=\"data row14 col0\" >15</td>\n",
       "      <td id=\"T_3b59a_row14_col1\" class=\"data row14 col1\" >2022-04-05</td>\n",
       "      <td id=\"T_3b59a_row14_col2\" class=\"data row14 col2\" >31</td>\n",
       "      <td id=\"T_3b59a_row14_col3\" class=\"data row14 col3\" >455</td>\n",
       "      <td id=\"T_3b59a_row14_col4\" class=\"data row14 col4\" >0.00</td>\n",
       "      <td id=\"T_3b59a_row14_col5\" class=\"data row14 col5\" >1428.88</td>\n",
       "      <td id=\"T_3b59a_row14_col6\" class=\"data row14 col6\" >14.77</td>\n",
       "      <td id=\"T_3b59a_row14_col7\" class=\"data row14 col7\" >1443.65</td>\n",
       "      <td id=\"T_3b59a_row14_col8\" class=\"data row14 col8\" >1241.43</td>\n",
       "    </tr>\n",
       "  </tbody>\n",
       "</table>\n"
      ],
      "text/plain": [
       "<pandas.io.formats.style.Styler at 0x757286108770>"
      ]
     },
     "execution_count": 133,
     "metadata": {},
     "output_type": "execute_result"
    }
   ],
   "source": [
    "tabela_valor_solicidado_dado = pd.DataFrame(tabela)\n",
    "tabela_valor_solicidado_dado.style.format({\n",
    "    'dias_parcela': '{:d}',\n",
    "    'dias_acumulados': '{:d}',\n",
    "    'saldo_devedor': '{:.2f}',\n",
    "    'amortizacao': '{:.2f}',\n",
    "    'juros': '{:.2f}',\n",
    "    'valor_prestacao': '{:.2f}',\n",
    "    'valor_presente_prestacao': '{:.2f}'\n",
    "})"
   ]
  },
  {
   "cell_type": "code",
   "execution_count": 127,
   "id": "3566f109",
   "metadata": {},
   "outputs": [
    {
     "data": {
      "text/plain": [
       "amortizacao                 20000.000000\n",
       "juros                        1654.726522\n",
       "valor_prestacao             21654.726522\n",
       "valor_presente_prestacao    20000.000000\n",
       "dtype: float64"
      ]
     },
     "execution_count": 127,
     "metadata": {},
     "output_type": "execute_result"
    }
   ],
   "source": [
    "tabela_valor_solicidado_dado[['amortizacao', 'juros', 'valor_prestacao', 'valor_presente_prestacao']].sum()"
   ]
  }
 ],
 "metadata": {
  "kernelspec": {
   "display_name": "tabela-price",
   "language": "python",
   "name": "python3"
  },
  "language_info": {
   "codemirror_mode": {
    "name": "ipython",
    "version": 3
   },
   "file_extension": ".py",
   "mimetype": "text/x-python",
   "name": "python",
   "nbconvert_exporter": "python",
   "pygments_lexer": "ipython3",
   "version": "3.12.4"
  }
 },
 "nbformat": 4,
 "nbformat_minor": 5
}
